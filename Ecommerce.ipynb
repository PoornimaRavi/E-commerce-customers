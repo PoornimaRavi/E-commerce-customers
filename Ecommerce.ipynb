{
 "cells": [
  {
   "cell_type": "markdown",
   "id": "4d53af63",
   "metadata": {},
   "source": [
    "# Ecommerce customers "
   ]
  },
  {
   "cell_type": "markdown",
   "id": "a9eeaede",
   "metadata": {},
   "source": [
    "# Importing the necessary libraries"
   ]
  },
  {
   "cell_type": "code",
   "execution_count": 1,
   "id": "4da0adf6",
   "metadata": {},
   "outputs": [],
   "source": [
    "import pandas as pd\n",
    "import matplotlib.pyplot as plt\n",
    "from sklearn import datasets  \n",
    "import numpy as np\n",
    "from sklearn.model_selection import train_test_split\n",
    "from sklearn.tree import  DecisionTreeClassifier\n",
    "from sklearn import tree\n",
    "from sklearn.metrics import classification_report\n",
    "from sklearn import preprocessing\n",
    "from sklearn import metrics\n",
    "import seaborn as sns\n",
    "import warnings\n",
    "warnings.filterwarnings('ignore')"
   ]
  },
  {
   "cell_type": "markdown",
   "id": "11b6b647",
   "metadata": {},
   "source": [
    "# Importing the Dataset"
   ]
  },
  {
   "cell_type": "markdown",
   "id": "3cad9ac4",
   "metadata": {},
   "source": [
    "#Reading the dataset and assigning it to a dataframe"
   ]
  },
  {
   "cell_type": "code",
   "execution_count": 2,
   "id": "7c73d851",
   "metadata": {},
   "outputs": [],
   "source": [
    "df = pd.read_csv(\"Ecommerce.csv\")"
   ]
  },
  {
   "cell_type": "code",
   "execution_count": 3,
   "id": "a0a1346d",
   "metadata": {},
   "outputs": [
    {
     "data": {
      "text/html": [
       "<div>\n",
       "<style scoped>\n",
       "    .dataframe tbody tr th:only-of-type {\n",
       "        vertical-align: middle;\n",
       "    }\n",
       "\n",
       "    .dataframe tbody tr th {\n",
       "        vertical-align: top;\n",
       "    }\n",
       "\n",
       "    .dataframe thead th {\n",
       "        text-align: right;\n",
       "    }\n",
       "</style>\n",
       "<table border=\"1\" class=\"dataframe\">\n",
       "  <thead>\n",
       "    <tr style=\"text-align: right;\">\n",
       "      <th></th>\n",
       "      <th>Customer ID</th>\n",
       "      <th>Avg Session length</th>\n",
       "      <th>Time on App</th>\n",
       "      <th>Time on Website</th>\n",
       "      <th>Length of MemberShip</th>\n",
       "      <th>Yealy amount spent</th>\n",
       "    </tr>\n",
       "  </thead>\n",
       "  <tbody>\n",
       "    <tr>\n",
       "      <th>0</th>\n",
       "      <td>1</td>\n",
       "      <td>32.538350</td>\n",
       "      <td>12.028846</td>\n",
       "      <td>35.850540</td>\n",
       "      <td>3.648854</td>\n",
       "      <td>576.098273</td>\n",
       "    </tr>\n",
       "    <tr>\n",
       "      <th>1</th>\n",
       "      <td>2</td>\n",
       "      <td>34.206718</td>\n",
       "      <td>12.226851</td>\n",
       "      <td>37.246443</td>\n",
       "      <td>1.987536</td>\n",
       "      <td>460.784955</td>\n",
       "    </tr>\n",
       "    <tr>\n",
       "      <th>2</th>\n",
       "      <td>3</td>\n",
       "      <td>31.535240</td>\n",
       "      <td>11.814341</td>\n",
       "      <td>36.610697</td>\n",
       "      <td>3.351191</td>\n",
       "      <td>349.739791</td>\n",
       "    </tr>\n",
       "    <tr>\n",
       "      <th>3</th>\n",
       "      <td>4</td>\n",
       "      <td>32.199577</td>\n",
       "      <td>11.295163</td>\n",
       "      <td>37.425695</td>\n",
       "      <td>5.234337</td>\n",
       "      <td>547.709921</td>\n",
       "    </tr>\n",
       "    <tr>\n",
       "      <th>4</th>\n",
       "      <td>5</td>\n",
       "      <td>33.570137</td>\n",
       "      <td>13.500972</td>\n",
       "      <td>36.856165</td>\n",
       "      <td>3.938603</td>\n",
       "      <td>487.055641</td>\n",
       "    </tr>\n",
       "    <tr>\n",
       "      <th>...</th>\n",
       "      <td>...</td>\n",
       "      <td>...</td>\n",
       "      <td>...</td>\n",
       "      <td>...</td>\n",
       "      <td>...</td>\n",
       "      <td>...</td>\n",
       "    </tr>\n",
       "    <tr>\n",
       "      <th>618</th>\n",
       "      <td>619</td>\n",
       "      <td>31.941434</td>\n",
       "      <td>11.158640</td>\n",
       "      <td>36.846959</td>\n",
       "      <td>3.219605</td>\n",
       "      <td>559.546775</td>\n",
       "    </tr>\n",
       "    <tr>\n",
       "      <th>619</th>\n",
       "      <td>620</td>\n",
       "      <td>33.446133</td>\n",
       "      <td>12.374820</td>\n",
       "      <td>37.592235</td>\n",
       "      <td>4.917733</td>\n",
       "      <td>515.186966</td>\n",
       "    </tr>\n",
       "    <tr>\n",
       "      <th>620</th>\n",
       "      <td>621</td>\n",
       "      <td>32.967749</td>\n",
       "      <td>11.392061</td>\n",
       "      <td>36.916664</td>\n",
       "      <td>2.955718</td>\n",
       "      <td>601.715746</td>\n",
       "    </tr>\n",
       "    <tr>\n",
       "      <th>621</th>\n",
       "      <td>622</td>\n",
       "      <td>33.469949</td>\n",
       "      <td>11.930872</td>\n",
       "      <td>37.744155</td>\n",
       "      <td>4.577850</td>\n",
       "      <td>477.741395</td>\n",
       "    </tr>\n",
       "    <tr>\n",
       "      <th>622</th>\n",
       "      <td>623</td>\n",
       "      <td>33.443393</td>\n",
       "      <td>12.978933</td>\n",
       "      <td>37.311979</td>\n",
       "      <td>3.575459</td>\n",
       "      <td>390.149419</td>\n",
       "    </tr>\n",
       "  </tbody>\n",
       "</table>\n",
       "<p>623 rows × 6 columns</p>\n",
       "</div>"
      ],
      "text/plain": [
       "     Customer ID  Avg Session length  Time on App  Time on Website  \\\n",
       "0              1           32.538350    12.028846        35.850540   \n",
       "1              2           34.206718    12.226851        37.246443   \n",
       "2              3           31.535240    11.814341        36.610697   \n",
       "3              4           32.199577    11.295163        37.425695   \n",
       "4              5           33.570137    13.500972        36.856165   \n",
       "..           ...                 ...          ...              ...   \n",
       "618          619           31.941434    11.158640        36.846959   \n",
       "619          620           33.446133    12.374820        37.592235   \n",
       "620          621           32.967749    11.392061        36.916664   \n",
       "621          622           33.469949    11.930872        37.744155   \n",
       "622          623           33.443393    12.978933        37.311979   \n",
       "\n",
       "     Length of MemberShip  Yealy amount spent  \n",
       "0                3.648854          576.098273  \n",
       "1                1.987536          460.784955  \n",
       "2                3.351191          349.739791  \n",
       "3                5.234337          547.709921  \n",
       "4                3.938603          487.055641  \n",
       "..                    ...                 ...  \n",
       "618              3.219605          559.546775  \n",
       "619              4.917733          515.186966  \n",
       "620              2.955718          601.715746  \n",
       "621              4.577850          477.741395  \n",
       "622              3.575459          390.149419  \n",
       "\n",
       "[623 rows x 6 columns]"
      ]
     },
     "execution_count": 3,
     "metadata": {},
     "output_type": "execute_result"
    }
   ],
   "source": [
    "df #If index needs to be removed use index_col=0"
   ]
  },
  {
   "cell_type": "markdown",
   "id": "2abbf84e",
   "metadata": {},
   "source": [
    "# EDA"
   ]
  },
  {
   "cell_type": "code",
   "execution_count": 5,
   "id": "d88e9ce1",
   "metadata": {},
   "outputs": [
    {
     "data": {
      "text/plain": [
       "(623, 6)"
      ]
     },
     "execution_count": 5,
     "metadata": {},
     "output_type": "execute_result"
    }
   ],
   "source": [
    "df.shape #Determining the rows and columns of the dataframe"
   ]
  },
  {
   "cell_type": "code",
   "execution_count": 6,
   "id": "f8099988",
   "metadata": {},
   "outputs": [
    {
     "data": {
      "text/plain": [
       "Customer ID               int64\n",
       "Avg Session length      float64\n",
       "Time on App             float64\n",
       "Time on Website         float64\n",
       "Length of MemberShip    float64\n",
       "Yealy amount spent      float64\n",
       "dtype: object"
      ]
     },
     "execution_count": 6,
     "metadata": {},
     "output_type": "execute_result"
    }
   ],
   "source": [
    "df.dtypes #determining the data types of the columns and checking the datatype "
   ]
  },
  {
   "cell_type": "code",
   "execution_count": 7,
   "id": "437a54a2",
   "metadata": {},
   "outputs": [
    {
     "data": {
      "text/plain": [
       "Customer ID             0\n",
       "Avg Session length      0\n",
       "Time on App             0\n",
       "Time on Website         0\n",
       "Length of MemberShip    0\n",
       "Yealy amount spent      0\n",
       "dtype: int64"
      ]
     },
     "execution_count": 7,
     "metadata": {},
     "output_type": "execute_result"
    }
   ],
   "source": [
    "df.isna().sum() #Detrming the null values in the dataframe"
   ]
  },
  {
   "cell_type": "markdown",
   "id": "70d44ff7",
   "metadata": {},
   "source": [
    "We have no null values in the dataframe"
   ]
  },
  {
   "cell_type": "code",
   "execution_count": 8,
   "id": "9dbf9627",
   "metadata": {
    "scrolled": true
   },
   "outputs": [
    {
     "data": {
      "text/plain": [
       "0"
      ]
     },
     "execution_count": 8,
     "metadata": {},
     "output_type": "execute_result"
    }
   ],
   "source": [
    "df.duplicated().sum() #Checking the duplicated rows if any"
   ]
  },
  {
   "cell_type": "code",
   "execution_count": 9,
   "id": "d5335f53",
   "metadata": {},
   "outputs": [
    {
     "data": {
      "text/plain": [
       "Index(['Customer ID', 'Avg Session length', 'Time on App', 'Time on Website',\n",
       "       'Length of MemberShip', 'Yealy amount spent'],\n",
       "      dtype='object')"
      ]
     },
     "execution_count": 9,
     "metadata": {},
     "output_type": "execute_result"
    }
   ],
   "source": [
    "df.columns #Getting the columns"
   ]
  },
  {
   "cell_type": "code",
   "execution_count": 10,
   "id": "e2829c16",
   "metadata": {},
   "outputs": [
    {
     "data": {
      "text/plain": [
       "<AxesSubplot:>"
      ]
     },
     "execution_count": 10,
     "metadata": {},
     "output_type": "execute_result"
    },
    {
     "data": {
      "image/png": "[encoded data removed]",
      "text/plain": [
       "<Figure size 432x288 with 1 Axes>"
      ]
     },
     "metadata": {
      "needs_background": "light"
     },
     "output_type": "display_data"
    }
   ],
   "source": [
    "df.boxplot(column=[\"Avg Session length\"]) #Boxplot to check outliers in the \"Avg Session length\" column"
   ]
  },
  {
   "cell_type": "markdown",
   "id": "03f5a805",
   "metadata": {},
   "source": [
    "We have one outlier on the upper and the lower quartile "
   ]
  },
  {
   "cell_type": "code",
   "execution_count": 11,
   "id": "f6ee75cb",
   "metadata": {
    "scrolled": true
   },
   "outputs": [
    {
     "data": {
      "text/plain": [
       "<AxesSubplot:>"
      ]
     },
     "execution_count": 11,
     "metadata": {},
     "output_type": "execute_result"
    },
    {
     "data": {
      "image/png": "[encoded data removed]",
      "text/plain": [
       "<Figure size 432x288 with 1 Axes>"
      ]
     },
     "metadata": {
      "needs_background": "light"
     },
     "output_type": "display_data"
    }
   ],
   "source": [
    "df.boxplot(column=[\"Time on App\"])#Boxplot to check outliers in the \"Time on App\" column"
   ]
  },
  {
   "cell_type": "markdown",
   "id": "f191215a",
   "metadata": {},
   "source": [
    "We have few outliers in the upper and lower quartile range "
   ]
  },
  {
   "cell_type": "code",
   "execution_count": 12,
   "id": "5c5ab9f4",
   "metadata": {
    "scrolled": true
   },
   "outputs": [
    {
     "data": {
      "text/plain": [
       "<AxesSubplot:>"
      ]
     },
     "execution_count": 12,
     "metadata": {},
     "output_type": "execute_result"
    },
    {
     "data": {
      "image/png": "[encoded data removed]",
      "text/plain": [
       "<Figure size 432x288 with 1 Axes>"
      ]
     },
     "metadata": {
      "needs_background": "light"
     },
     "output_type": "display_data"
    }
   ],
   "source": [
    "df.boxplot(column=[\"Time on Website\"])#Boxplot to check outliers in the \"Time on Website\" column"
   ]
  },
  {
   "cell_type": "code",
   "execution_count": 13,
   "id": "a4642804",
   "metadata": {},
   "outputs": [
    {
     "data": {
      "text/plain": [
       "<AxesSubplot:>"
      ]
     },
     "execution_count": 13,
     "metadata": {},
     "output_type": "execute_result"
    },
    {
     "data": {
      "image/png": "[encoded data removed]",
      "text/plain": [
       "<Figure size 432x288 with 1 Axes>"
      ]
     },
     "metadata": {
      "needs_background": "light"
     },
     "output_type": "display_data"
    }
   ],
   "source": [
    "df.boxplot(column=[\"Length of MemberShip\"]) ##Boxplot to check outliers in the \"Length of MemberShip\" column"
   ]
  },
  {
   "cell_type": "markdown",
   "id": "5088afa0",
   "metadata": {},
   "source": [
    "We have few outliers in the \"Length of membership \" column"
   ]
  },
  {
   "cell_type": "markdown",
   "id": "23594ba7",
   "metadata": {},
   "source": [
    "# Histogram to check the distribution of data"
   ]
  },
  {
   "cell_type": "code",
   "execution_count": 14,
   "id": "e960bea3",
   "metadata": {
    "scrolled": true
   },
   "outputs": [
    {
     "data": {
      "text/plain": [
       "<AxesSubplot:>"
      ]
     },
     "execution_count": 14,
     "metadata": {},
     "output_type": "execute_result"
    },
    {
     "data": {
      "image/png": "[encoded data removed]",
      "text/plain": [
       "<Figure size 432x288 with 1 Axes>"
      ]
     },
     "metadata": {
      "needs_background": "light"
     },
     "output_type": "display_data"
    }
   ],
   "source": [
    "#Histogram\n",
    "df[\"Avg Session length\"].hist()"
   ]
  },
  {
   "cell_type": "code",
   "execution_count": 15,
   "id": "d1ce2b24",
   "metadata": {},
   "outputs": [
    {
     "data": {
      "text/plain": [
       "<AxesSubplot:>"
      ]
     },
     "execution_count": 15,
     "metadata": {},
     "output_type": "execute_result"
    },
    {
     "data": {
      "image/png": "[encoded data removed]",
      "text/plain": [
       "<Figure size 432x288 with 1 Axes>"
      ]
     },
     "metadata": {
      "needs_background": "light"
     },
     "output_type": "display_data"
    }
   ],
   "source": [
    "#Histogram\n",
    "df[\"Time on App\"].hist()"
   ]
  },
  {
   "cell_type": "code",
   "execution_count": 16,
   "id": "449e9d38",
   "metadata": {},
   "outputs": [
    {
     "data": {
      "text/plain": [
       "<AxesSubplot:>"
      ]
     },
     "execution_count": 16,
     "metadata": {},
     "output_type": "execute_result"
    },
    {
     "data": {
      "image/png": "[encoded data removed]",
      "text/plain": [
       "<Figure size 432x288 with 1 Axes>"
      ]
     },
     "metadata": {
      "needs_background": "light"
     },
     "output_type": "display_data"
    }
   ],
   "source": [
    "#Histogram\n",
    "df[\"Time on Website\"].hist()"
   ]
  },
  {
   "cell_type": "code",
   "execution_count": 17,
   "id": "8284953c",
   "metadata": {},
   "outputs": [
    {
     "data": {
      "text/plain": [
       "<AxesSubplot:>"
      ]
     },
     "execution_count": 17,
     "metadata": {},
     "output_type": "execute_result"
    },
    {
     "data": {
      "image/png": "[encoded data removed]",
      "text/plain": [
       "<Figure size 432x288 with 1 Axes>"
      ]
     },
     "metadata": {
      "needs_background": "light"
     },
     "output_type": "display_data"
    }
   ],
   "source": [
    "df[\"Length of MemberShip\"].hist()"
   ]
  },
  {
   "cell_type": "markdown",
   "id": "9aa45bbf",
   "metadata": {},
   "source": [
    "Interpretation:The independent features 'Avg Session length', 'Time on App', 'Time on Website','Length of MemberShip' \n",
    "follow normal distribition  "
   ]
  },
  {
   "cell_type": "markdown",
   "id": "81d0c4de",
   "metadata": {},
   "source": [
    "Lets plot a distplot to understand the distribution of data"
   ]
  },
  {
   "cell_type": "code",
   "execution_count": 18,
   "id": "073d0f13",
   "metadata": {},
   "outputs": [
    {
     "data": {
      "text/plain": [
       "<AxesSubplot:xlabel='Avg Session length', ylabel='Density'>"
      ]
     },
     "execution_count": 18,
     "metadata": {},
     "output_type": "execute_result"
    },
    {
     "data": {
      "image/png": "[encoded data removed]",
      "text/plain": [
       "<Figure size 432x288 with 1 Axes>"
      ]
     },
     "metadata": {
      "needs_background": "light"
     },
     "output_type": "display_data"
    }
   ],
   "source": [
    "sns.distplot(df['Avg Session length'], color ='blue', bins = 30)"
   ]
  },
  {
   "cell_type": "code",
   "execution_count": 19,
   "id": "0390abbb",
   "metadata": {},
   "outputs": [
    {
     "data": {
      "text/plain": [
       "<AxesSubplot:xlabel='Time on App', ylabel='Density'>"
      ]
     },
     "execution_count": 19,
     "metadata": {},
     "output_type": "execute_result"
    },
    {
     "data": {
      "image/png": "[encoded data removed]",
      "text/plain": [
       "<Figure size 432x288 with 1 Axes>"
      ]
     },
     "metadata": {
      "needs_background": "light"
     },
     "output_type": "display_data"
    }
   ],
   "source": [
    "sns.distplot(df['Time on App'], color ='blue', bins = 30)"
   ]
  },
  {
   "cell_type": "markdown",
   "id": "7c8fe305",
   "metadata": {},
   "source": [
    "Using for loop to iterate through the independent features for code optimisation"
   ]
  },
  {
   "cell_type": "code",
   "execution_count": 20,
   "id": "87248249",
   "metadata": {},
   "outputs": [
    {
     "data": {
      "image/png": "[encoded data removed]",
      "text/plain": [
       "<Figure size 432x288 with 1 Axes>"
      ]
     },
     "metadata": {
      "needs_background": "light"
     },
     "output_type": "display_data"
    },
    {
     "data": {
      "image/png": "[encoded data removed]",
      "text/plain": [
       "<Figure size 576x360 with 1 Axes>"
      ]
     },
     "metadata": {},
     "output_type": "display_data"
    },
    {
     "data": {
      "image/png": "[encoded data removed]",
      "text/plain": [
       "<Figure size 576x360 with 1 Axes>"
      ]
     },
     "metadata": {},
     "output_type": "display_data"
    },
    {
     "data": {
      "image/png": "[encoded data removed]",
      "text/plain": [
       "<Figure size 576x360 with 1 Axes>"
      ]
     },
     "metadata": {},
     "output_type": "display_data"
    },
    {
     "data": {
      "image/png": "[encoded data removed]",
      "text/plain": [
       "<Figure size 576x360 with 1 Axes>"
      ]
     },
     "metadata": {},
     "output_type": "display_data"
    },
    {
     "data": {
      "image/png": "[encoded data removed]",
      "text/plain": [
       "<Figure size 576x360 with 1 Axes>"
      ]
     },
     "metadata": {},
     "output_type": "display_data"
    }
   ],
   "source": [
    "for i in df.columns:\n",
    "    plt.figure()\n",
    "    plt.tight_layout()\n",
    "    sns.set(rc={\"figure.figsize\":(8, 5)})\n",
    "    sns.distplot(df[i], color ='blue', bins = 30)\n",
    "    "
   ]
  },
  {
   "cell_type": "code",
   "execution_count": 21,
   "id": "8ca99dcb",
   "metadata": {},
   "outputs": [
    {
     "data": {
      "text/plain": [
       "Index(['Customer ID', 'Avg Session length', 'Time on App', 'Time on Website',\n",
       "       'Length of MemberShip', 'Yealy amount spent'],\n",
       "      dtype='object')"
      ]
     },
     "execution_count": 21,
     "metadata": {},
     "output_type": "execute_result"
    }
   ],
   "source": [
    "df.columns"
   ]
  },
  {
   "cell_type": "code",
   "execution_count": 22,
   "id": "1b90129b",
   "metadata": {
    "scrolled": true
   },
   "outputs": [
    {
     "data": {
      "image/png": "[encoded data removed]",
      "text/plain": [
       "<Figure size 900x900 with 30 Axes>"
      ]
     },
     "metadata": {},
     "output_type": "display_data"
    }
   ],
   "source": [
    "sns.pairplot(df,vars=['Avg Session length', 'Time on App', 'Time on Website','Length of MemberShip','Yealy amount spent'],)\n",
    "plt.show()"
   ]
  },
  {
   "cell_type": "code",
   "execution_count": 23,
   "id": "9326807e",
   "metadata": {},
   "outputs": [
    {
     "data": {
      "text/html": [
       "<div>\n",
       "<style scoped>\n",
       "    .dataframe tbody tr th:only-of-type {\n",
       "        vertical-align: middle;\n",
       "    }\n",
       "\n",
       "    .dataframe tbody tr th {\n",
       "        vertical-align: top;\n",
       "    }\n",
       "\n",
       "    .dataframe thead th {\n",
       "        text-align: right;\n",
       "    }\n",
       "</style>\n",
       "<table border=\"1\" class=\"dataframe\">\n",
       "  <thead>\n",
       "    <tr style=\"text-align: right;\">\n",
       "      <th></th>\n",
       "      <th>Avg Session length</th>\n",
       "      <th>Time on App</th>\n",
       "      <th>Time on Website</th>\n",
       "      <th>Length of MemberShip</th>\n",
       "      <th>Yealy amount spent</th>\n",
       "    </tr>\n",
       "  </thead>\n",
       "  <tbody>\n",
       "    <tr>\n",
       "      <th>Avg Session length</th>\n",
       "      <td>1.000000</td>\n",
       "      <td>-0.001234</td>\n",
       "      <td>0.050231</td>\n",
       "      <td>-0.010919</td>\n",
       "      <td>-0.042764</td>\n",
       "    </tr>\n",
       "    <tr>\n",
       "      <th>Time on App</th>\n",
       "      <td>-0.001234</td>\n",
       "      <td>1.000000</td>\n",
       "      <td>0.040029</td>\n",
       "      <td>0.029839</td>\n",
       "      <td>-0.012348</td>\n",
       "    </tr>\n",
       "    <tr>\n",
       "      <th>Time on Website</th>\n",
       "      <td>0.050231</td>\n",
       "      <td>0.040029</td>\n",
       "      <td>1.000000</td>\n",
       "      <td>0.036788</td>\n",
       "      <td>0.084305</td>\n",
       "    </tr>\n",
       "    <tr>\n",
       "      <th>Length of MemberShip</th>\n",
       "      <td>-0.010919</td>\n",
       "      <td>0.029839</td>\n",
       "      <td>0.036788</td>\n",
       "      <td>1.000000</td>\n",
       "      <td>-0.030451</td>\n",
       "    </tr>\n",
       "    <tr>\n",
       "      <th>Yealy amount spent</th>\n",
       "      <td>-0.042764</td>\n",
       "      <td>-0.012348</td>\n",
       "      <td>0.084305</td>\n",
       "      <td>-0.030451</td>\n",
       "      <td>1.000000</td>\n",
       "    </tr>\n",
       "  </tbody>\n",
       "</table>\n",
       "</div>"
      ],
      "text/plain": [
       "                      Avg Session length  Time on App  Time on Website  \\\n",
       "Avg Session length              1.000000    -0.001234         0.050231   \n",
       "Time on App                    -0.001234     1.000000         0.040029   \n",
       "Time on Website                 0.050231     0.040029         1.000000   \n",
       "Length of MemberShip           -0.010919     0.029839         0.036788   \n",
       "Yealy amount spent             -0.042764    -0.012348         0.084305   \n",
       "\n",
       "                      Length of MemberShip  Yealy amount spent  \n",
       "Avg Session length               -0.010919           -0.042764  \n",
       "Time on App                       0.029839           -0.012348  \n",
       "Time on Website                   0.036788            0.084305  \n",
       "Length of MemberShip              1.000000           -0.030451  \n",
       "Yealy amount spent               -0.030451            1.000000  "
      ]
     },
     "execution_count": 23,
     "metadata": {},
     "output_type": "execute_result"
    }
   ],
   "source": [
    "df[['Avg Session length', 'Time on App', 'Time on Website',\n",
    "       'Length of MemberShip', 'Yealy amount spent']].corr()"
   ]
  },
  {
   "cell_type": "code",
   "execution_count": 24,
   "id": "aaefc748",
   "metadata": {},
   "outputs": [
    {
     "data": {
      "text/plain": [
       "<AxesSubplot:>"
      ]
     },
     "execution_count": 24,
     "metadata": {},
     "output_type": "execute_result"
    },
    {
     "data": {
      "image/png": "[encoded data removed]",
      "text/plain": [
       "<Figure size 576x360 with 2 Axes>"
      ]
     },
     "metadata": {},
     "output_type": "display_data"
    }
   ],
   "source": [
    "sns.heatmap(df[['Avg Session length', 'Time on App', 'Time on Website',\n",
    "       'Length of MemberShip', 'Yealy amount spent']].corr(),linewidths=0.5,annot=True)"
   ]
  },
  {
   "cell_type": "markdown",
   "id": "712d05f1",
   "metadata": {},
   "source": [
    "Heat Map interpretation"
   ]
  },
  {
   "cell_type": "markdown",
   "id": "828bcc9c",
   "metadata": {},
   "source": [
    "From the above heat map we can see that the corelation coefficient is very low as all the values lies in tha draker shade category\n",
    "As it is evident from the pair plot we can see that there is no correlation between features.Some features like('Time on App and 'Average session lenth') have negative\n",
    "corelation.\n",
    "since some the features like() have no corelation and  some have negative coorelation we will consider all the features for model building\n",
    "                                                                                                                "
   ]
  },
  {
   "cell_type": "markdown",
   "id": "56aac789",
   "metadata": {},
   "source": [
    "#Splitting the columns into independent and target features for model building"
   ]
  },
  {
   "cell_type": "code",
   "execution_count": 25,
   "id": "4ca276fe",
   "metadata": {},
   "outputs": [],
   "source": [
    "x = df[['Avg Session length', 'Time on App', 'Time on Website',\n",
    "       'Length of MemberShip']]"
   ]
  },
  {
   "cell_type": "code",
   "execution_count": 26,
   "id": "79126abb",
   "metadata": {},
   "outputs": [
    {
     "data": {
      "text/html": [
       "<div>\n",
       "<style scoped>\n",
       "    .dataframe tbody tr th:only-of-type {\n",
       "        vertical-align: middle;\n",
       "    }\n",
       "\n",
       "    .dataframe tbody tr th {\n",
       "        vertical-align: top;\n",
       "    }\n",
       "\n",
       "    .dataframe thead th {\n",
       "        text-align: right;\n",
       "    }\n",
       "</style>\n",
       "<table border=\"1\" class=\"dataframe\">\n",
       "  <thead>\n",
       "    <tr style=\"text-align: right;\">\n",
       "      <th></th>\n",
       "      <th>Avg Session length</th>\n",
       "      <th>Time on App</th>\n",
       "      <th>Time on Website</th>\n",
       "      <th>Length of MemberShip</th>\n",
       "    </tr>\n",
       "  </thead>\n",
       "  <tbody>\n",
       "    <tr>\n",
       "      <th>0</th>\n",
       "      <td>32.538350</td>\n",
       "      <td>12.028846</td>\n",
       "      <td>35.850540</td>\n",
       "      <td>3.648854</td>\n",
       "    </tr>\n",
       "    <tr>\n",
       "      <th>1</th>\n",
       "      <td>34.206718</td>\n",
       "      <td>12.226851</td>\n",
       "      <td>37.246443</td>\n",
       "      <td>1.987536</td>\n",
       "    </tr>\n",
       "    <tr>\n",
       "      <th>2</th>\n",
       "      <td>31.535240</td>\n",
       "      <td>11.814341</td>\n",
       "      <td>36.610697</td>\n",
       "      <td>3.351191</td>\n",
       "    </tr>\n",
       "    <tr>\n",
       "      <th>3</th>\n",
       "      <td>32.199577</td>\n",
       "      <td>11.295163</td>\n",
       "      <td>37.425695</td>\n",
       "      <td>5.234337</td>\n",
       "    </tr>\n",
       "    <tr>\n",
       "      <th>4</th>\n",
       "      <td>33.570137</td>\n",
       "      <td>13.500972</td>\n",
       "      <td>36.856165</td>\n",
       "      <td>3.938603</td>\n",
       "    </tr>\n",
       "    <tr>\n",
       "      <th>...</th>\n",
       "      <td>...</td>\n",
       "      <td>...</td>\n",
       "      <td>...</td>\n",
       "      <td>...</td>\n",
       "    </tr>\n",
       "    <tr>\n",
       "      <th>618</th>\n",
       "      <td>31.941434</td>\n",
       "      <td>11.158640</td>\n",
       "      <td>36.846959</td>\n",
       "      <td>3.219605</td>\n",
       "    </tr>\n",
       "    <tr>\n",
       "      <th>619</th>\n",
       "      <td>33.446133</td>\n",
       "      <td>12.374820</td>\n",
       "      <td>37.592235</td>\n",
       "      <td>4.917733</td>\n",
       "    </tr>\n",
       "    <tr>\n",
       "      <th>620</th>\n",
       "      <td>32.967749</td>\n",
       "      <td>11.392061</td>\n",
       "      <td>36.916664</td>\n",
       "      <td>2.955718</td>\n",
       "    </tr>\n",
       "    <tr>\n",
       "      <th>621</th>\n",
       "      <td>33.469949</td>\n",
       "      <td>11.930872</td>\n",
       "      <td>37.744155</td>\n",
       "      <td>4.577850</td>\n",
       "    </tr>\n",
       "    <tr>\n",
       "      <th>622</th>\n",
       "      <td>33.443393</td>\n",
       "      <td>12.978933</td>\n",
       "      <td>37.311979</td>\n",
       "      <td>3.575459</td>\n",
       "    </tr>\n",
       "  </tbody>\n",
       "</table>\n",
       "<p>623 rows × 4 columns</p>\n",
       "</div>"
      ],
      "text/plain": [
       "     Avg Session length  Time on App  Time on Website  Length of MemberShip\n",
       "0             32.538350    12.028846        35.850540              3.648854\n",
       "1             34.206718    12.226851        37.246443              1.987536\n",
       "2             31.535240    11.814341        36.610697              3.351191\n",
       "3             32.199577    11.295163        37.425695              5.234337\n",
       "4             33.570137    13.500972        36.856165              3.938603\n",
       "..                  ...          ...              ...                   ...\n",
       "618           31.941434    11.158640        36.846959              3.219605\n",
       "619           33.446133    12.374820        37.592235              4.917733\n",
       "620           32.967749    11.392061        36.916664              2.955718\n",
       "621           33.469949    11.930872        37.744155              4.577850\n",
       "622           33.443393    12.978933        37.311979              3.575459\n",
       "\n",
       "[623 rows x 4 columns]"
      ]
     },
     "execution_count": 26,
     "metadata": {},
     "output_type": "execute_result"
    }
   ],
   "source": [
    "x #x contains all the independent features"
   ]
  },
  {
   "cell_type": "code",
   "execution_count": 27,
   "id": "5c7ae2fe",
   "metadata": {},
   "outputs": [],
   "source": [
    "y = df[['Yealy amount spent']]"
   ]
  },
  {
   "cell_type": "code",
   "execution_count": 28,
   "id": "2e75132e",
   "metadata": {},
   "outputs": [
    {
     "data": {
      "text/html": [
       "<div>\n",
       "<style scoped>\n",
       "    .dataframe tbody tr th:only-of-type {\n",
       "        vertical-align: middle;\n",
       "    }\n",
       "\n",
       "    .dataframe tbody tr th {\n",
       "        vertical-align: top;\n",
       "    }\n",
       "\n",
       "    .dataframe thead th {\n",
       "        text-align: right;\n",
       "    }\n",
       "</style>\n",
       "<table border=\"1\" class=\"dataframe\">\n",
       "  <thead>\n",
       "    <tr style=\"text-align: right;\">\n",
       "      <th></th>\n",
       "      <th>Yealy amount spent</th>\n",
       "    </tr>\n",
       "  </thead>\n",
       "  <tbody>\n",
       "    <tr>\n",
       "      <th>0</th>\n",
       "      <td>576.098273</td>\n",
       "    </tr>\n",
       "    <tr>\n",
       "      <th>1</th>\n",
       "      <td>460.784955</td>\n",
       "    </tr>\n",
       "    <tr>\n",
       "      <th>2</th>\n",
       "      <td>349.739791</td>\n",
       "    </tr>\n",
       "    <tr>\n",
       "      <th>3</th>\n",
       "      <td>547.709921</td>\n",
       "    </tr>\n",
       "    <tr>\n",
       "      <th>4</th>\n",
       "      <td>487.055641</td>\n",
       "    </tr>\n",
       "    <tr>\n",
       "      <th>...</th>\n",
       "      <td>...</td>\n",
       "    </tr>\n",
       "    <tr>\n",
       "      <th>618</th>\n",
       "      <td>559.546775</td>\n",
       "    </tr>\n",
       "    <tr>\n",
       "      <th>619</th>\n",
       "      <td>515.186966</td>\n",
       "    </tr>\n",
       "    <tr>\n",
       "      <th>620</th>\n",
       "      <td>601.715746</td>\n",
       "    </tr>\n",
       "    <tr>\n",
       "      <th>621</th>\n",
       "      <td>477.741395</td>\n",
       "    </tr>\n",
       "    <tr>\n",
       "      <th>622</th>\n",
       "      <td>390.149419</td>\n",
       "    </tr>\n",
       "  </tbody>\n",
       "</table>\n",
       "<p>623 rows × 1 columns</p>\n",
       "</div>"
      ],
      "text/plain": [
       "     Yealy amount spent\n",
       "0            576.098273\n",
       "1            460.784955\n",
       "2            349.739791\n",
       "3            547.709921\n",
       "4            487.055641\n",
       "..                  ...\n",
       "618          559.546775\n",
       "619          515.186966\n",
       "620          601.715746\n",
       "621          477.741395\n",
       "622          390.149419\n",
       "\n",
       "[623 rows x 1 columns]"
      ]
     },
     "execution_count": 28,
     "metadata": {},
     "output_type": "execute_result"
    }
   ],
   "source": [
    "y"
   ]
  },
  {
   "cell_type": "markdown",
   "id": "b857cb8a",
   "metadata": {},
   "source": [
    "Before doing feature selection lets consider all the features and build a model to understand the performance by \n",
    "using the evalutaion metrics such as mse,mape and accuracy score"
   ]
  },
  {
   "cell_type": "markdown",
   "id": "c2f9cb50",
   "metadata": {},
   "source": [
    "# Summary of the EDA\n",
    "1.We have plotted box plots to identify the outliers in the dataset.We have few outliers and we will not remove them as it might \n",
    "have an impact on the data.\n",
    "\n",
    "2.We have plotted the histgram and distplot to understand the distrbution of data.The data is normally distrbuted and is not skewed\n",
    "hence we would not be removing the outlierd in the data\n",
    "\n",
    "\n",
    "3.We have also plotted the pair plot to understand the correlation.There is no correlation between the independent features and hence we cannot remove the any feature.All the featues playa crucial role in model building\n",
    "\n",
    "4.We have plotted heatmap to undestand the correaltion between independent features.As it is evident from the pairplot may features have no / negative corelation.\n"
   ]
  },
  {
   "cell_type": "markdown",
   "id": "f3f60952",
   "metadata": {},
   "source": [
    "Importing Linear Regression modules"
   ]
  },
  {
   "cell_type": "code",
   "execution_count": 29,
   "id": "a03a8caa",
   "metadata": {},
   "outputs": [],
   "source": [
    "from sklearn.linear_model import LinearRegression #Importing the necessary libararies to build the regression model\n"
   ]
  },
  {
   "cell_type": "code",
   "execution_count": 30,
   "id": "0e0c5fbd",
   "metadata": {},
   "outputs": [],
   "source": [
    "lm = LinearRegression()"
   ]
  },
  {
   "cell_type": "code",
   "execution_count": 31,
   "id": "265e5f00",
   "metadata": {},
   "outputs": [],
   "source": [
    "from sklearn.model_selection import train_test_split"
   ]
  },
  {
   "cell_type": "markdown",
   "id": "2ada84e8",
   "metadata": {},
   "source": [
    "# Splitting the data into training and testing set"
   ]
  },
  {
   "cell_type": "code",
   "execution_count": 32,
   "id": "b0cc2663",
   "metadata": {},
   "outputs": [],
   "source": [
    "xtrain,xtest,ytrain ,ytest = train_test_split(x,y,test_size=  0.2,random_state=1)"
   ]
  },
  {
   "cell_type": "markdown",
   "id": "d31b2eaa",
   "metadata": {},
   "source": [
    "# Training the model on the training set"
   ]
  },
  {
   "cell_type": "code",
   "execution_count": 33,
   "id": "60c14fca",
   "metadata": {},
   "outputs": [
    {
     "data": {
      "text/plain": [
       "-0.02518232674318921"
      ]
     },
     "execution_count": 33,
     "metadata": {},
     "output_type": "execute_result"
    }
   ],
   "source": [
    "lm.fit(xtrain,ytrain)\n",
    "lm.score(xtest,ytest)"
   ]
  },
  {
   "cell_type": "markdown",
   "id": "17aabb02",
   "metadata": {},
   "source": [
    "# Predict the test set results"
   ]
  },
  {
   "cell_type": "code",
   "execution_count": 34,
   "id": "cb78f31f",
   "metadata": {},
   "outputs": [],
   "source": [
    "ypred = lm.predict(xtest)"
   ]
  },
  {
   "cell_type": "code",
   "execution_count": 35,
   "id": "12ee7128",
   "metadata": {},
   "outputs": [
    {
     "data": {
      "text/plain": [
       "array([[488.3762374 ],\n",
       "       [488.76359004],\n",
       "       [510.92525406],\n",
       "       [509.5448299 ],\n",
       "       [500.59168207],\n",
       "       [499.19630031],\n",
       "       [506.35356795],\n",
       "       [487.26527218],\n",
       "       [507.74523433],\n",
       "       [507.68374239],\n",
       "       [492.96472503],\n",
       "       [506.48123862],\n",
       "       [494.44924096],\n",
       "       [495.01359276],\n",
       "       [514.08070112],\n",
       "       [500.70457222],\n",
       "       [489.68861744],\n",
       "       [501.73391792],\n",
       "       [498.59663387],\n",
       "       [498.24817362],\n",
       "       [490.43872705],\n",
       "       [499.46113672],\n",
       "       [502.9107072 ],\n",
       "       [502.39685049],\n",
       "       [508.08242977],\n",
       "       [507.01463257],\n",
       "       [496.84824864],\n",
       "       [483.76322229],\n",
       "       [498.33183355],\n",
       "       [506.06398029],\n",
       "       [486.52801131],\n",
       "       [496.6055741 ],\n",
       "       [490.57510024],\n",
       "       [493.34013173],\n",
       "       [491.36857724],\n",
       "       [521.50249426],\n",
       "       [504.70576597],\n",
       "       [492.32955269],\n",
       "       [504.65849099],\n",
       "       [506.96756127],\n",
       "       [485.07248787],\n",
       "       [515.53910052],\n",
       "       [492.46045359],\n",
       "       [505.85682181],\n",
       "       [498.46798354],\n",
       "       [493.07400962],\n",
       "       [508.18278463],\n",
       "       [503.35276506],\n",
       "       [505.81063921],\n",
       "       [502.15027815],\n",
       "       [500.90352768],\n",
       "       [481.52580303],\n",
       "       [497.78040626],\n",
       "       [474.48713624],\n",
       "       [497.286153  ],\n",
       "       [492.35738101],\n",
       "       [487.11226904],\n",
       "       [502.06446347],\n",
       "       [509.64147008],\n",
       "       [491.71354965],\n",
       "       [512.0553338 ],\n",
       "       [485.79356798],\n",
       "       [503.95568526],\n",
       "       [504.70175201],\n",
       "       [478.81321221],\n",
       "       [503.03713963],\n",
       "       [497.60387456],\n",
       "       [502.03733085],\n",
       "       [499.29040717],\n",
       "       [487.12028723],\n",
       "       [496.59024078],\n",
       "       [502.52408823],\n",
       "       [508.81272621],\n",
       "       [493.05860593],\n",
       "       [496.98574866],\n",
       "       [491.13062651],\n",
       "       [496.57843846],\n",
       "       [492.07645787],\n",
       "       [503.22510166],\n",
       "       [495.79731335],\n",
       "       [500.72526401],\n",
       "       [506.89293246],\n",
       "       [496.38052974],\n",
       "       [502.90946723],\n",
       "       [503.77447059],\n",
       "       [497.46677301],\n",
       "       [505.16515594],\n",
       "       [523.56517387],\n",
       "       [497.23896602],\n",
       "       [495.76566084],\n",
       "       [489.14494573],\n",
       "       [517.94857627],\n",
       "       [502.31518229],\n",
       "       [490.84636248],\n",
       "       [507.76954617],\n",
       "       [488.07982397],\n",
       "       [499.70208016],\n",
       "       [501.58005505],\n",
       "       [498.49990661],\n",
       "       [483.99172328],\n",
       "       [496.20016001],\n",
       "       [504.85834298],\n",
       "       [482.56084751],\n",
       "       [484.31927682],\n",
       "       [513.73390297],\n",
       "       [498.48569845],\n",
       "       [492.24121264],\n",
       "       [511.06689732],\n",
       "       [511.67328449],\n",
       "       [499.12597766],\n",
       "       [498.79726698],\n",
       "       [496.91358611],\n",
       "       [484.14819287],\n",
       "       [495.6315864 ],\n",
       "       [494.92777888],\n",
       "       [487.35895308],\n",
       "       [507.22499818],\n",
       "       [494.92473553],\n",
       "       [492.33035828],\n",
       "       [487.7352604 ],\n",
       "       [488.69240806],\n",
       "       [504.02113763],\n",
       "       [485.92305967],\n",
       "       [492.76140081],\n",
       "       [496.56876903]])"
      ]
     },
     "execution_count": 35,
     "metadata": {},
     "output_type": "execute_result"
    }
   ],
   "source": [
    "ypred"
   ]
  },
  {
   "cell_type": "markdown",
   "id": "8ae7094b",
   "metadata": {},
   "source": [
    "Testing the model for the frist observation in the dataset.\n",
    "First observation has these \n",
    "\n",
    "Features:\n",
    "\n",
    "Avg Session length- 32.538350\n",
    "\n",
    "Time on App- 12.028846\n",
    "\n",
    "Time on Website\t-35.850540\n",
    "\n",
    "Length of MemberShip-3.648854\n",
    "\n",
    "Target:\n",
    "\n",
    "Yealy amount spent\t576.098273\n",
    "\n"
   ]
  },
  {
   "cell_type": "code",
   "execution_count": 36,
   "id": "4de1717e",
   "metadata": {
    "scrolled": true
   },
   "outputs": [
    {
     "data": {
      "text/plain": [
       "array([[492.32954974]])"
      ]
     },
     "execution_count": 36,
     "metadata": {},
     "output_type": "execute_result"
    }
   ],
   "source": [
    "lm.predict([[32.538350,12.028846,35.850540,3.648854]])"
   ]
  },
  {
   "cell_type": "markdown",
   "id": "ac2cb3d5",
   "metadata": {},
   "source": [
    "The regression mdel has predicted the \"Yearly amount spent \" as 492.32954974 as against 576.098273"
   ]
  },
  {
   "cell_type": "code",
   "execution_count": 37,
   "id": "74297739",
   "metadata": {},
   "outputs": [
    {
     "data": {
      "text/plain": [
       "array([[631.4223353],\n",
       "       [462.9961909],\n",
       "       [500.8339579],\n",
       "       [521.4200707],\n",
       "       [601.7157458],\n",
       "       [663.7338558],\n",
       "       [418.5323291],\n",
       "       [528.4431062],\n",
       "       [585.84916  ],\n",
       "       [445.1026663],\n",
       "       [524.1315404],\n",
       "       [579.2000648],\n",
       "       [395.0524107],\n",
       "       [413.9073401],\n",
       "       [446.4917214],\n",
       "       [438.3564101],\n",
       "       [410.2656759],\n",
       "       [513.9343242],\n",
       "       [502.7579898],\n",
       "       [546.1652755],\n",
       "       [474.5841703],\n",
       "       [553.4239669],\n",
       "       [385.8763396],\n",
       "       [523.0854531],\n",
       "       [544.7425174],\n",
       "       [382.0253352],\n",
       "       [564.1235581],\n",
       "       [497.8097448],\n",
       "       [443.5283615],\n",
       "       [443.6791171],\n",
       "       [474.8221773],\n",
       "       [387.6561747],\n",
       "       [596.3220425],\n",
       "       [474.0655209],\n",
       "       [489.6617115],\n",
       "       [381.1783688],\n",
       "       [495.1238077],\n",
       "       [576.0982734],\n",
       "       [667.1046731],\n",
       "       [432.3089249],\n",
       "       [508.8394068],\n",
       "       [613.7721856],\n",
       "       [489.2312895],\n",
       "       [411.3629306],\n",
       "       [532.970231 ],\n",
       "       [458.5879105],\n",
       "       [572.8001735],\n",
       "       [466.7491524],\n",
       "       [348.6396432],\n",
       "       [336.5316374],\n",
       "       [600.8826362],\n",
       "       [471.164286 ],\n",
       "       [536.8492689],\n",
       "       [447.2192957],\n",
       "       [640.508237 ],\n",
       "       [544.6354302],\n",
       "       [566.4419792],\n",
       "       [441.9096902],\n",
       "       [531.2529883],\n",
       "       [500.1962933],\n",
       "       [444.6370245],\n",
       "       [642.0631288],\n",
       "       [512.6819738],\n",
       "       [515.1483207],\n",
       "       [499.9450977],\n",
       "       [346.7931176],\n",
       "       [541.8210941],\n",
       "       [409.7834454],\n",
       "       [611.5380337],\n",
       "       [535.6152107],\n",
       "       [520.5277495],\n",
       "       [561.0597369],\n",
       "       [499.1541165],\n",
       "       [471.1134833],\n",
       "       [402.6715897],\n",
       "       [523.3845702],\n",
       "       [534.6585507],\n",
       "       [419.7908552],\n",
       "       [471.1567659],\n",
       "       [716.9369107],\n",
       "       [576.5485312],\n",
       "       [559.5467748],\n",
       "       [555.0799652],\n",
       "       [499.0982532],\n",
       "       [496.1362977],\n",
       "       [564.2862688],\n",
       "       [410.7861424],\n",
       "       [468.9970427],\n",
       "       [476.0341659],\n",
       "       [410.521872 ],\n",
       "       [491.4016315],\n",
       "       [569.3031227],\n",
       "       [495.4040691],\n",
       "       [550.6612765],\n",
       "       [454.7200685],\n",
       "       [381.7944132],\n",
       "       [602.868046 ],\n",
       "       [553.3067617],\n",
       "       [471.8728424],\n",
       "       [453.1351431],\n",
       "       [327.8564404],\n",
       "       [503.1406869],\n",
       "       [729.5439506],\n",
       "       [609.5583572],\n",
       "       [622.2105711],\n",
       "       [567.9936372],\n",
       "       [415.7536517],\n",
       "       [410.8130126],\n",
       "       [586.5107077],\n",
       "       [455.3595725],\n",
       "       [584.2377935],\n",
       "       [488.1379719],\n",
       "       [343.1204394],\n",
       "       [467.67009  ],\n",
       "       [461.8549297],\n",
       "       [535.885573 ],\n",
       "       [451.1357012],\n",
       "       [413.9841878],\n",
       "       [538.3941182],\n",
       "       [471.2085029],\n",
       "       [489.0118595],\n",
       "       [515.2644339],\n",
       "       [496.0162642],\n",
       "       [531.9113004],\n",
       "       [407.5991676]])"
      ]
     },
     "execution_count": 37,
     "metadata": {},
     "output_type": "execute_result"
    }
   ],
   "source": [
    "ytest= np.array(ytest)\n",
    "ytest"
   ]
  },
  {
   "cell_type": "code",
   "execution_count": 38,
   "id": "e5574405",
   "metadata": {},
   "outputs": [
    {
     "data": {
      "text/plain": [
       "array([[ 6.31422335e+02,  4.88376237e+02,  1.43046098e+02],\n",
       "       [ 4.62996191e+02,  4.88763590e+02, -2.57673991e+01],\n",
       "       [ 5.00833958e+02,  5.10925254e+02, -1.00912962e+01],\n",
       "       [ 5.21420071e+02,  5.09544830e+02,  1.18752408e+01],\n",
       "       [ 6.01715746e+02,  5.00591682e+02,  1.01124064e+02],\n",
       "       [ 6.63733856e+02,  4.99196300e+02,  1.64537555e+02],\n",
       "       [ 4.18532329e+02,  5.06353568e+02, -8.78212389e+01],\n",
       "       [ 5.28443106e+02,  4.87265272e+02,  4.11778340e+01],\n",
       "       [ 5.85849160e+02,  5.07745234e+02,  7.81039257e+01],\n",
       "       [ 4.45102666e+02,  5.07683742e+02, -6.25810761e+01],\n",
       "       [ 5.24131540e+02,  4.92964725e+02,  3.11668154e+01],\n",
       "       [ 5.79200065e+02,  5.06481239e+02,  7.27188262e+01],\n",
       "       [ 3.95052411e+02,  4.94449241e+02, -9.93968303e+01],\n",
       "       [ 4.13907340e+02,  4.95013593e+02, -8.11062527e+01],\n",
       "       [ 4.46491721e+02,  5.14080701e+02, -6.75889797e+01],\n",
       "       [ 4.38356410e+02,  5.00704572e+02, -6.23481621e+01],\n",
       "       [ 4.10265676e+02,  4.89688617e+02, -7.94229415e+01],\n",
       "       [ 5.13934324e+02,  5.01733918e+02,  1.22004063e+01],\n",
       "       [ 5.02757990e+02,  4.98596634e+02,  4.16135593e+00],\n",
       "       [ 5.46165276e+02,  4.98248174e+02,  4.79171019e+01],\n",
       "       [ 4.74584170e+02,  4.90438727e+02, -1.58545568e+01],\n",
       "       [ 5.53423967e+02,  4.99461137e+02,  5.39628302e+01],\n",
       "       [ 3.85876340e+02,  5.02910707e+02, -1.17034368e+02],\n",
       "       [ 5.23085453e+02,  5.02396850e+02,  2.06886026e+01],\n",
       "       [ 5.44742517e+02,  5.08082430e+02,  3.66600876e+01],\n",
       "       [ 3.82025335e+02,  5.07014633e+02, -1.24989297e+02],\n",
       "       [ 5.64123558e+02,  4.96848249e+02,  6.72753095e+01],\n",
       "       [ 4.97809745e+02,  4.83763222e+02,  1.40465225e+01],\n",
       "       [ 4.43528362e+02,  4.98331834e+02, -5.48034720e+01],\n",
       "       [ 4.43679117e+02,  5.06063980e+02, -6.23848632e+01],\n",
       "       [ 4.74822177e+02,  4.86528011e+02, -1.17058340e+01],\n",
       "       [ 3.87656175e+02,  4.96605574e+02, -1.08949399e+02],\n",
       "       [ 5.96322042e+02,  4.90575100e+02,  1.05746942e+02],\n",
       "       [ 4.74065521e+02,  4.93340132e+02, -1.92746108e+01],\n",
       "       [ 4.89661712e+02,  4.91368577e+02, -1.70686574e+00],\n",
       "       [ 3.81178369e+02,  5.21502494e+02, -1.40324125e+02],\n",
       "       [ 4.95123808e+02,  5.04705766e+02, -9.58195827e+00],\n",
       "       [ 5.76098273e+02,  4.92329553e+02,  8.37687207e+01],\n",
       "       [ 6.67104673e+02,  5.04658491e+02,  1.62446182e+02],\n",
       "       [ 4.32308925e+02,  5.06967561e+02, -7.46586364e+01],\n",
       "       [ 5.08839407e+02,  4.85072488e+02,  2.37669189e+01],\n",
       "       [ 6.13772186e+02,  5.15539101e+02,  9.82330851e+01],\n",
       "       [ 4.89231290e+02,  4.92460454e+02, -3.22916409e+00],\n",
       "       [ 4.11362931e+02,  5.05856822e+02, -9.44938912e+01],\n",
       "       [ 5.32970231e+02,  4.98467984e+02,  3.45022475e+01],\n",
       "       [ 4.58587911e+02,  4.93074010e+02, -3.44860991e+01],\n",
       "       [ 5.72800174e+02,  5.08182785e+02,  6.46173889e+01],\n",
       "       [ 4.66749152e+02,  5.03352765e+02, -3.66036127e+01],\n",
       "       [ 3.48639643e+02,  5.05810639e+02, -1.57170996e+02],\n",
       "       [ 3.36531637e+02,  5.02150278e+02, -1.65618641e+02],\n",
       "       [ 6.00882636e+02,  5.00903528e+02,  9.99791085e+01],\n",
       "       [ 4.71164286e+02,  4.81525803e+02, -1.03615170e+01],\n",
       "       [ 5.36849269e+02,  4.97780406e+02,  3.90688626e+01],\n",
       "       [ 4.47219296e+02,  4.74487136e+02, -2.72678405e+01],\n",
       "       [ 6.40508237e+02,  4.97286153e+02,  1.43222084e+02],\n",
       "       [ 5.44635430e+02,  4.92357381e+02,  5.22780492e+01],\n",
       "       [ 5.66441979e+02,  4.87112269e+02,  7.93297102e+01],\n",
       "       [ 4.41909690e+02,  5.02064463e+02, -6.01547733e+01],\n",
       "       [ 5.31252988e+02,  5.09641470e+02,  2.16115182e+01],\n",
       "       [ 5.00196293e+02,  4.91713550e+02,  8.48274365e+00],\n",
       "       [ 4.44637024e+02,  5.12055334e+02, -6.74183093e+01],\n",
       "       [ 6.42063129e+02,  4.85793568e+02,  1.56269561e+02],\n",
       "       [ 5.12681974e+02,  5.03955685e+02,  8.72628854e+00],\n",
       "       [ 5.15148321e+02,  5.04701752e+02,  1.04465687e+01],\n",
       "       [ 4.99945098e+02,  4.78813212e+02,  2.11318855e+01],\n",
       "       [ 3.46793118e+02,  5.03037140e+02, -1.56244022e+02],\n",
       "       [ 5.41821094e+02,  4.97603875e+02,  4.42172195e+01],\n",
       "       [ 4.09783445e+02,  5.02037331e+02, -9.22538854e+01],\n",
       "       [ 6.11538034e+02,  4.99290407e+02,  1.12247627e+02],\n",
       "       [ 5.35615211e+02,  4.87120287e+02,  4.84949235e+01],\n",
       "       [ 5.20527750e+02,  4.96590241e+02,  2.39375087e+01],\n",
       "       [ 5.61059737e+02,  5.02524088e+02,  5.85356487e+01],\n",
       "       [ 4.99154116e+02,  5.08812726e+02, -9.65860971e+00],\n",
       "       [ 4.71113483e+02,  4.93058606e+02, -2.19451226e+01],\n",
       "       [ 4.02671590e+02,  4.96985749e+02, -9.43141590e+01],\n",
       "       [ 5.23384570e+02,  4.91130627e+02,  3.22539437e+01],\n",
       "       [ 5.34658551e+02,  4.96578438e+02,  3.80801122e+01],\n",
       "       [ 4.19790855e+02,  4.92076458e+02, -7.22856027e+01],\n",
       "       [ 4.71156766e+02,  5.03225102e+02, -3.20683358e+01],\n",
       "       [ 7.16936911e+02,  4.95797313e+02,  2.21139597e+02],\n",
       "       [ 5.76548531e+02,  5.00725264e+02,  7.58232672e+01],\n",
       "       [ 5.59546775e+02,  5.06892932e+02,  5.26538423e+01],\n",
       "       [ 5.55079965e+02,  4.96380530e+02,  5.86994355e+01],\n",
       "       [ 4.99098253e+02,  5.02909467e+02, -3.81121403e+00],\n",
       "       [ 4.96136298e+02,  5.03774471e+02, -7.63817289e+00],\n",
       "       [ 5.64286269e+02,  4.97466773e+02,  6.68194958e+01],\n",
       "       [ 4.10786142e+02,  5.05165156e+02, -9.43790135e+01],\n",
       "       [ 4.68997043e+02,  5.23565174e+02, -5.45681312e+01],\n",
       "       [ 4.76034166e+02,  4.97238966e+02, -2.12048001e+01],\n",
       "       [ 4.10521872e+02,  4.95765661e+02, -8.52437888e+01],\n",
       "       [ 4.91401632e+02,  4.89144946e+02,  2.25668577e+00],\n",
       "       [ 5.69303123e+02,  5.17948576e+02,  5.13545464e+01],\n",
       "       [ 4.95404069e+02,  5.02315182e+02, -6.91111319e+00],\n",
       "       [ 5.50661276e+02,  4.90846362e+02,  5.98149140e+01],\n",
       "       [ 4.54720069e+02,  5.07769546e+02, -5.30494777e+01],\n",
       "       [ 3.81794413e+02,  4.88079824e+02, -1.06285411e+02],\n",
       "       [ 6.02868046e+02,  4.99702080e+02,  1.03165966e+02],\n",
       "       [ 5.53306762e+02,  5.01580055e+02,  5.17267067e+01],\n",
       "       [ 4.71872842e+02,  4.98499907e+02, -2.66270642e+01],\n",
       "       [ 4.53135143e+02,  4.83991723e+02, -3.08565802e+01],\n",
       "       [ 3.27856440e+02,  4.96200160e+02, -1.68343720e+02],\n",
       "       [ 5.03140687e+02,  5.04858343e+02, -1.71765608e+00],\n",
       "       [ 7.29543951e+02,  4.82560848e+02,  2.46983103e+02],\n",
       "       [ 6.09558357e+02,  4.84319277e+02,  1.25239080e+02],\n",
       "       [ 6.22210571e+02,  5.13733903e+02,  1.08476668e+02],\n",
       "       [ 5.67993637e+02,  4.98485698e+02,  6.95079387e+01],\n",
       "       [ 4.15753652e+02,  4.92241213e+02, -7.64875609e+01],\n",
       "       [ 4.10813013e+02,  5.11066897e+02, -1.00253885e+02],\n",
       "       [ 5.86510708e+02,  5.11673284e+02,  7.48374232e+01],\n",
       "       [ 4.55359573e+02,  4.99125978e+02, -4.37664052e+01],\n",
       "       [ 5.84237793e+02,  4.98797267e+02,  8.54405265e+01],\n",
       "       [ 4.88137972e+02,  4.96913586e+02, -8.77561421e+00],\n",
       "       [ 3.43120439e+02,  4.84148193e+02, -1.41027753e+02],\n",
       "       [ 4.67670090e+02,  4.95631586e+02, -2.79614964e+01],\n",
       "       [ 4.61854930e+02,  4.94927779e+02, -3.30728492e+01],\n",
       "       [ 5.35885573e+02,  4.87358953e+02,  4.85266199e+01],\n",
       "       [ 4.51135701e+02,  5.07224998e+02, -5.60892970e+01],\n",
       "       [ 4.13984188e+02,  4.94924736e+02, -8.09405477e+01],\n",
       "       [ 5.38394118e+02,  4.92330358e+02,  4.60637599e+01],\n",
       "       [ 4.71208503e+02,  4.87735260e+02, -1.65267575e+01],\n",
       "       [ 4.89011860e+02,  4.88692408e+02,  3.19451437e-01],\n",
       "       [ 5.15264434e+02,  5.04021138e+02,  1.12432963e+01],\n",
       "       [ 4.96016264e+02,  4.85923060e+02,  1.00932045e+01],\n",
       "       [ 5.31911300e+02,  4.92761401e+02,  3.91498996e+01],\n",
       "       [ 4.07599168e+02,  4.96568769e+02, -8.89696014e+01]])"
      ]
     },
     "execution_count": 38,
     "metadata": {},
     "output_type": "execute_result"
    }
   ],
   "source": [
    "combined_array = np.column_stack((ytest,ypred,ytest-ypred))\n",
    "combined_array"
   ]
  },
  {
   "cell_type": "code",
   "execution_count": 39,
   "id": "4b5ff607",
   "metadata": {},
   "outputs": [
    {
     "data": {
      "text/html": [
       "<div>\n",
       "<style scoped>\n",
       "    .dataframe tbody tr th:only-of-type {\n",
       "        vertical-align: middle;\n",
       "    }\n",
       "\n",
       "    .dataframe tbody tr th {\n",
       "        vertical-align: top;\n",
       "    }\n",
       "\n",
       "    .dataframe thead th {\n",
       "        text-align: right;\n",
       "    }\n",
       "</style>\n",
       "<table border=\"1\" class=\"dataframe\">\n",
       "  <thead>\n",
       "    <tr style=\"text-align: right;\">\n",
       "      <th></th>\n",
       "      <th>Ytest</th>\n",
       "      <th>Ypred</th>\n",
       "      <th>Difference</th>\n",
       "    </tr>\n",
       "  </thead>\n",
       "  <tbody>\n",
       "    <tr>\n",
       "      <th>0</th>\n",
       "      <td>631.422335</td>\n",
       "      <td>488.376237</td>\n",
       "      <td>143.046098</td>\n",
       "    </tr>\n",
       "    <tr>\n",
       "      <th>1</th>\n",
       "      <td>462.996191</td>\n",
       "      <td>488.763590</td>\n",
       "      <td>-25.767399</td>\n",
       "    </tr>\n",
       "    <tr>\n",
       "      <th>2</th>\n",
       "      <td>500.833958</td>\n",
       "      <td>510.925254</td>\n",
       "      <td>-10.091296</td>\n",
       "    </tr>\n",
       "    <tr>\n",
       "      <th>3</th>\n",
       "      <td>521.420071</td>\n",
       "      <td>509.544830</td>\n",
       "      <td>11.875241</td>\n",
       "    </tr>\n",
       "    <tr>\n",
       "      <th>4</th>\n",
       "      <td>601.715746</td>\n",
       "      <td>500.591682</td>\n",
       "      <td>101.124064</td>\n",
       "    </tr>\n",
       "    <tr>\n",
       "      <th>...</th>\n",
       "      <td>...</td>\n",
       "      <td>...</td>\n",
       "      <td>...</td>\n",
       "    </tr>\n",
       "    <tr>\n",
       "      <th>120</th>\n",
       "      <td>489.011860</td>\n",
       "      <td>488.692408</td>\n",
       "      <td>0.319451</td>\n",
       "    </tr>\n",
       "    <tr>\n",
       "      <th>121</th>\n",
       "      <td>515.264434</td>\n",
       "      <td>504.021138</td>\n",
       "      <td>11.243296</td>\n",
       "    </tr>\n",
       "    <tr>\n",
       "      <th>122</th>\n",
       "      <td>496.016264</td>\n",
       "      <td>485.923060</td>\n",
       "      <td>10.093205</td>\n",
       "    </tr>\n",
       "    <tr>\n",
       "      <th>123</th>\n",
       "      <td>531.911300</td>\n",
       "      <td>492.761401</td>\n",
       "      <td>39.149900</td>\n",
       "    </tr>\n",
       "    <tr>\n",
       "      <th>124</th>\n",
       "      <td>407.599168</td>\n",
       "      <td>496.568769</td>\n",
       "      <td>-88.969601</td>\n",
       "    </tr>\n",
       "  </tbody>\n",
       "</table>\n",
       "<p>125 rows × 3 columns</p>\n",
       "</div>"
      ],
      "text/plain": [
       "          Ytest       Ypred  Difference\n",
       "0    631.422335  488.376237  143.046098\n",
       "1    462.996191  488.763590  -25.767399\n",
       "2    500.833958  510.925254  -10.091296\n",
       "3    521.420071  509.544830   11.875241\n",
       "4    601.715746  500.591682  101.124064\n",
       "..          ...         ...         ...\n",
       "120  489.011860  488.692408    0.319451\n",
       "121  515.264434  504.021138   11.243296\n",
       "122  496.016264  485.923060   10.093205\n",
       "123  531.911300  492.761401   39.149900\n",
       "124  407.599168  496.568769  -88.969601\n",
       "\n",
       "[125 rows x 3 columns]"
      ]
     },
     "execution_count": 39,
     "metadata": {},
     "output_type": "execute_result"
    }
   ],
   "source": [
    "df1 = pd.DataFrame(combined_array,columns=['Ytest','Ypred','Difference'])\n",
    "df1"
   ]
  },
  {
   "cell_type": "code",
   "execution_count": 40,
   "id": "c5f43714",
   "metadata": {},
   "outputs": [
    {
     "data": {
      "image/png": "[encoded data removed]",
      "text/plain": [
       "<Figure size 576x360 with 1 Axes>"
      ]
     },
     "metadata": {},
     "output_type": "display_data"
    }
   ],
   "source": [
    "#Scatter plot for test and predicted value\n",
    "plt.scatter(ytest,ypred)\n",
    "\n",
    "plt.xlabel('Actual')\n",
    "plt.ylabel('Predicted')\n",
    "plt.show()"
   ]
  },
  {
   "cell_type": "code",
   "execution_count": 41,
   "id": "4f1f7d95",
   "metadata": {},
   "outputs": [
    {
     "data": {
      "text/plain": [
       "<AxesSubplot:>"
      ]
     },
     "execution_count": 41,
     "metadata": {},
     "output_type": "execute_result"
    },
    {
     "data": {
      "image/png": "[encoded data removed]",
      "text/plain": [
       "<Figure size 576x360 with 1 Axes>"
      ]
     },
     "metadata": {},
     "output_type": "display_data"
    }
   ],
   "source": [
    "sns.regplot(x = ytest,y = ypred,color='blue')"
   ]
  },
  {
   "cell_type": "code",
   "execution_count": 42,
   "id": "9cf47039",
   "metadata": {},
   "outputs": [],
   "source": [
    "New_Input = [[34.3,11.1,38.2,6]]"
   ]
  },
  {
   "cell_type": "code",
   "execution_count": 43,
   "id": "a96a15f5",
   "metadata": {},
   "outputs": [
    {
     "data": {
      "text/plain": [
       "array([[495.1398048]])"
      ]
     },
     "execution_count": 43,
     "metadata": {},
     "output_type": "execute_result"
    }
   ],
   "source": [
    "new_output = lm.predict(New_Input)\n",
    "new_output"
   ]
  },
  {
   "cell_type": "markdown",
   "id": "d1c59fc6",
   "metadata": {},
   "source": [
    "# Evaluate the model"
   ]
  },
  {
   "cell_type": "code",
   "execution_count": 44,
   "id": "9b37030c",
   "metadata": {},
   "outputs": [],
   "source": [
    "from sklearn.metrics import r2_score"
   ]
  },
  {
   "cell_type": "code",
   "execution_count": 45,
   "id": "bfd7e110",
   "metadata": {},
   "outputs": [
    {
     "data": {
      "text/plain": [
       "-0.02518232674318921"
      ]
     },
     "execution_count": 45,
     "metadata": {},
     "output_type": "execute_result"
    }
   ],
   "source": [
    "r2_score(ytest,ypred)"
   ]
  },
  {
   "cell_type": "markdown",
   "id": "dcdcc3a0",
   "metadata": {},
   "source": [
    "The r2_score is negative suggesting the model is bad.We will have to improve the r2 score to build a good  model"
   ]
  },
  {
   "cell_type": "code",
   "execution_count": 46,
   "id": "1f5f0b43",
   "metadata": {},
   "outputs": [
    {
     "name": "stdout",
     "output_type": "stream",
     "text": [
      "MSE : 6334.426011750221\n",
      " RMSE : 79.58910736872365\n",
      " Accuracy : -0.02518232674318921\n",
      " MAE: 62.95094005718036\n",
      " MAPE : 0.13026764778977012 \n"
     ]
    }
   ],
   "source": [
    "from sklearn.metrics import mean_squared_error as MSE,r2_score,mean_absolute_error as mae,mean_absolute_percentage_error as mape\n",
    "mse = MSE(ytest,ypred)\n",
    "rmse = np.sqrt(mse)\n",
    "ac = r2_score(ytest,ypred)\n",
    "MAE = mae(ytest,ypred)\n",
    "MAPE = mape(ytest,ypred)\n",
    "print(f\"MSE : {mse}\\n RMSE : {rmse}\\n Accuracy : {ac}\\n MAE: {MAE}\\n MAPE : {MAPE} \")\n"
   ]
  },
  {
   "cell_type": "markdown",
   "id": "2040c3de",
   "metadata": {},
   "source": [
    "Evaluation metrics interpretation\n",
    "\n",
    "MSE - This value is high as it predicts 6841.03 times more than the actual value\n",
    "\n",
    "RMSE - The value of RMSe is also high\n",
    "\n",
    "Accuracy--0.025 indicates the the model is bad"
   ]
  },
  {
   "cell_type": "code",
   "execution_count": 47,
   "id": "7ca98dba",
   "metadata": {},
   "outputs": [
    {
     "data": {
      "text/plain": [
       "array([[-6.91767269, -1.60958013,  8.0670534 , -2.31865575]])"
      ]
     },
     "execution_count": 47,
     "metadata": {},
     "output_type": "execute_result"
    }
   ],
   "source": [
    "coefficients = lm.coef_\n",
    "coefficients"
   ]
  },
  {
   "cell_type": "code",
   "execution_count": 48,
   "id": "7c1f1867",
   "metadata": {},
   "outputs": [
    {
     "data": {
      "text/plain": [
       "array([456.0328122])"
      ]
     },
     "execution_count": 48,
     "metadata": {},
     "output_type": "execute_result"
    }
   ],
   "source": [
    "intercept = lm.intercept_\n",
    "intercept"
   ]
  },
  {
   "cell_type": "markdown",
   "id": "139f1602",
   "metadata": {},
   "source": [
    "# Residuals"
   ]
  },
  {
   "cell_type": "code",
   "execution_count": 49,
   "id": "590da3b0",
   "metadata": {},
   "outputs": [
    {
     "data": {
      "image/png": "[encoded data removed]",
      "text/plain": [
       "<Figure size 576x360 with 1 Axes>"
      ]
     },
     "metadata": {},
     "output_type": "display_data"
    }
   ],
   "source": [
    "sns.distplot((ytest-ypred),bins=50);"
   ]
  },
  {
   "cell_type": "markdown",
   "id": "01e655c7",
   "metadata": {},
   "source": [
    "Interpreting the coefficents"
   ]
  },
  {
   "cell_type": "code",
   "execution_count": 50,
   "id": "7ecb28f0",
   "metadata": {},
   "outputs": [
    {
     "data": {
      "text/html": [
       "<div>\n",
       "<style scoped>\n",
       "    .dataframe tbody tr th:only-of-type {\n",
       "        vertical-align: middle;\n",
       "    }\n",
       "\n",
       "    .dataframe tbody tr th {\n",
       "        vertical-align: top;\n",
       "    }\n",
       "\n",
       "    .dataframe thead th {\n",
       "        text-align: right;\n",
       "    }\n",
       "</style>\n",
       "<table border=\"1\" class=\"dataframe\">\n",
       "  <thead>\n",
       "    <tr style=\"text-align: right;\">\n",
       "      <th></th>\n",
       "      <th>Avg Session length</th>\n",
       "      <th>Time on App</th>\n",
       "      <th>Time on Website</th>\n",
       "      <th>Length of MemberShip</th>\n",
       "    </tr>\n",
       "  </thead>\n",
       "  <tbody>\n",
       "    <tr>\n",
       "      <th>0</th>\n",
       "      <td>32.538350</td>\n",
       "      <td>12.028846</td>\n",
       "      <td>35.850540</td>\n",
       "      <td>3.648854</td>\n",
       "    </tr>\n",
       "    <tr>\n",
       "      <th>1</th>\n",
       "      <td>34.206718</td>\n",
       "      <td>12.226851</td>\n",
       "      <td>37.246443</td>\n",
       "      <td>1.987536</td>\n",
       "    </tr>\n",
       "    <tr>\n",
       "      <th>2</th>\n",
       "      <td>31.535240</td>\n",
       "      <td>11.814341</td>\n",
       "      <td>36.610697</td>\n",
       "      <td>3.351191</td>\n",
       "    </tr>\n",
       "    <tr>\n",
       "      <th>3</th>\n",
       "      <td>32.199577</td>\n",
       "      <td>11.295163</td>\n",
       "      <td>37.425695</td>\n",
       "      <td>5.234337</td>\n",
       "    </tr>\n",
       "    <tr>\n",
       "      <th>4</th>\n",
       "      <td>33.570137</td>\n",
       "      <td>13.500972</td>\n",
       "      <td>36.856165</td>\n",
       "      <td>3.938603</td>\n",
       "    </tr>\n",
       "    <tr>\n",
       "      <th>...</th>\n",
       "      <td>...</td>\n",
       "      <td>...</td>\n",
       "      <td>...</td>\n",
       "      <td>...</td>\n",
       "    </tr>\n",
       "    <tr>\n",
       "      <th>618</th>\n",
       "      <td>31.941434</td>\n",
       "      <td>11.158640</td>\n",
       "      <td>36.846959</td>\n",
       "      <td>3.219605</td>\n",
       "    </tr>\n",
       "    <tr>\n",
       "      <th>619</th>\n",
       "      <td>33.446133</td>\n",
       "      <td>12.374820</td>\n",
       "      <td>37.592235</td>\n",
       "      <td>4.917733</td>\n",
       "    </tr>\n",
       "    <tr>\n",
       "      <th>620</th>\n",
       "      <td>32.967749</td>\n",
       "      <td>11.392061</td>\n",
       "      <td>36.916664</td>\n",
       "      <td>2.955718</td>\n",
       "    </tr>\n",
       "    <tr>\n",
       "      <th>621</th>\n",
       "      <td>33.469949</td>\n",
       "      <td>11.930872</td>\n",
       "      <td>37.744155</td>\n",
       "      <td>4.577850</td>\n",
       "    </tr>\n",
       "    <tr>\n",
       "      <th>622</th>\n",
       "      <td>33.443393</td>\n",
       "      <td>12.978933</td>\n",
       "      <td>37.311979</td>\n",
       "      <td>3.575459</td>\n",
       "    </tr>\n",
       "  </tbody>\n",
       "</table>\n",
       "<p>623 rows × 4 columns</p>\n",
       "</div>"
      ],
      "text/plain": [
       "     Avg Session length  Time on App  Time on Website  Length of MemberShip\n",
       "0             32.538350    12.028846        35.850540              3.648854\n",
       "1             34.206718    12.226851        37.246443              1.987536\n",
       "2             31.535240    11.814341        36.610697              3.351191\n",
       "3             32.199577    11.295163        37.425695              5.234337\n",
       "4             33.570137    13.500972        36.856165              3.938603\n",
       "..                  ...          ...              ...                   ...\n",
       "618           31.941434    11.158640        36.846959              3.219605\n",
       "619           33.446133    12.374820        37.592235              4.917733\n",
       "620           32.967749    11.392061        36.916664              2.955718\n",
       "621           33.469949    11.930872        37.744155              4.577850\n",
       "622           33.443393    12.978933        37.311979              3.575459\n",
       "\n",
       "[623 rows x 4 columns]"
      ]
     },
     "execution_count": 50,
     "metadata": {},
     "output_type": "execute_result"
    }
   ],
   "source": [
    "x"
   ]
  },
  {
   "cell_type": "code",
   "execution_count": 51,
   "id": "41c6bb7e",
   "metadata": {},
   "outputs": [
    {
     "data": {
      "text/plain": [
       "array([[-6.91767269, -1.60958013,  8.0670534 , -2.31865575]])"
      ]
     },
     "execution_count": 51,
     "metadata": {},
     "output_type": "execute_result"
    }
   ],
   "source": [
    "lm.coef_"
   ]
  },
  {
   "cell_type": "code",
   "execution_count": 52,
   "id": "5911db16",
   "metadata": {},
   "outputs": [
    {
     "data": {
      "text/plain": [
       "numpy.ndarray"
      ]
     },
     "execution_count": 52,
     "metadata": {},
     "output_type": "execute_result"
    }
   ],
   "source": [
    "type(lm.coef_)"
   ]
  },
  {
   "cell_type": "code",
   "execution_count": 53,
   "id": "40808d11",
   "metadata": {},
   "outputs": [
    {
     "data": {
      "text/plain": [
       "(4,)"
      ]
     },
     "execution_count": 53,
     "metadata": {},
     "output_type": "execute_result"
    }
   ],
   "source": [
    "x.columns.shape"
   ]
  },
  {
   "cell_type": "code",
   "execution_count": 54,
   "id": "7e0bd3a5",
   "metadata": {},
   "outputs": [
    {
     "data": {
      "text/plain": [
       "pandas.core.indexes.base.Index"
      ]
     },
     "execution_count": 54,
     "metadata": {},
     "output_type": "execute_result"
    }
   ],
   "source": [
    "type(x.columns)"
   ]
  },
  {
   "cell_type": "code",
   "execution_count": 55,
   "id": "c19ed4cc",
   "metadata": {},
   "outputs": [
    {
     "data": {
      "text/plain": [
       "Index(['Avg Session length', 'Time on App', 'Time on Website',\n",
       "       'Length of MemberShip'],\n",
       "      dtype='object')"
      ]
     },
     "execution_count": 55,
     "metadata": {},
     "output_type": "execute_result"
    }
   ],
   "source": [
    "x.columns"
   ]
  },
  {
   "cell_type": "code",
   "execution_count": 56,
   "id": "72aea561",
   "metadata": {},
   "outputs": [],
   "source": [
    "coeff = lm.coef_"
   ]
  },
  {
   "cell_type": "code",
   "execution_count": 57,
   "id": "e99c4dcc",
   "metadata": {},
   "outputs": [
    {
     "data": {
      "text/plain": [
       "array([[-6.91767269, -1.60958013,  8.0670534 , -2.31865575]])"
      ]
     },
     "execution_count": 57,
     "metadata": {},
     "output_type": "execute_result"
    }
   ],
   "source": [
    "coeff"
   ]
  },
  {
   "cell_type": "code",
   "execution_count": 58,
   "id": "9e24f8b1",
   "metadata": {},
   "outputs": [],
   "source": [
    "cols = ['Avg Session length', 'Time on App', 'Time on Website',\n",
    "       'Length of MemberShip'],"
   ]
  },
  {
   "cell_type": "code",
   "execution_count": 59,
   "id": "a64a62b5",
   "metadata": {},
   "outputs": [
    {
     "data": {
      "text/plain": [
       "(['Avg Session length',\n",
       "  'Time on App',\n",
       "  'Time on Website',\n",
       "  'Length of MemberShip'],)"
      ]
     },
     "execution_count": 59,
     "metadata": {},
     "output_type": "execute_result"
    }
   ],
   "source": [
    "cols"
   ]
  },
  {
   "cell_type": "code",
   "execution_count": 60,
   "id": "67feb188",
   "metadata": {},
   "outputs": [],
   "source": [
    "coeff = {\n",
    "    'columns':['Avg Session length','Time on App','Time on Website','Length of MemberShip'],\n",
    "    'lm_coeff' :[-6.91767269, -1.60958013,  8.0670534 , -2.31865575]}\n",
    "df_coeff = pd.DataFrame(coeff)"
   ]
  },
  {
   "cell_type": "code",
   "execution_count": 61,
   "id": "abc737a4",
   "metadata": {},
   "outputs": [
    {
     "data": {
      "text/html": [
       "<div>\n",
       "<style scoped>\n",
       "    .dataframe tbody tr th:only-of-type {\n",
       "        vertical-align: middle;\n",
       "    }\n",
       "\n",
       "    .dataframe tbody tr th {\n",
       "        vertical-align: top;\n",
       "    }\n",
       "\n",
       "    .dataframe thead th {\n",
       "        text-align: right;\n",
       "    }\n",
       "</style>\n",
       "<table border=\"1\" class=\"dataframe\">\n",
       "  <thead>\n",
       "    <tr style=\"text-align: right;\">\n",
       "      <th></th>\n",
       "      <th>columns</th>\n",
       "      <th>lm_coeff</th>\n",
       "    </tr>\n",
       "  </thead>\n",
       "  <tbody>\n",
       "    <tr>\n",
       "      <th>0</th>\n",
       "      <td>Avg Session length</td>\n",
       "      <td>-6.917673</td>\n",
       "    </tr>\n",
       "    <tr>\n",
       "      <th>1</th>\n",
       "      <td>Time on App</td>\n",
       "      <td>-1.609580</td>\n",
       "    </tr>\n",
       "    <tr>\n",
       "      <th>2</th>\n",
       "      <td>Time on Website</td>\n",
       "      <td>8.067053</td>\n",
       "    </tr>\n",
       "    <tr>\n",
       "      <th>3</th>\n",
       "      <td>Length of MemberShip</td>\n",
       "      <td>-2.318656</td>\n",
       "    </tr>\n",
       "  </tbody>\n",
       "</table>\n",
       "</div>"
      ],
      "text/plain": [
       "                columns  lm_coeff\n",
       "0    Avg Session length -6.917673\n",
       "1           Time on App -1.609580\n",
       "2       Time on Website  8.067053\n",
       "3  Length of MemberShip -2.318656"
      ]
     },
     "execution_count": 61,
     "metadata": {},
     "output_type": "execute_result"
    }
   ],
   "source": [
    "df_coeff"
   ]
  },
  {
   "cell_type": "code",
   "execution_count": 62,
   "id": "02215920",
   "metadata": {},
   "outputs": [
    {
     "data": {
      "text/plain": [
       "array([456.0328122])"
      ]
     },
     "execution_count": 62,
     "metadata": {},
     "output_type": "execute_result"
    }
   ],
   "source": [
    "lm.intercept_"
   ]
  },
  {
   "cell_type": "markdown",
   "id": "4518696c",
   "metadata": {},
   "source": [
    "Interpretation of coeffiecients:\n",
    "\n",
    "The predicted value of y would be as per the equation y = m1x1 + m2x2 + m3x3 + c\n",
    "\n",
    "y_predicted = -6.91 x1 + (-1.60)x2 + 8.06 x3 + (-2.31) x4 + 456\n",
    "\n",
    "We see that except for the \"time on website\" feature, the other features('Avg Session length','Time on App','Time on Website',  'Length of MemberShip') are negative indicating that the company should concentrate more on this feature"
   ]
  },
  {
   "cell_type": "markdown",
   "id": "6c063fb5",
   "metadata": {},
   "source": [
    "Lets use an other algorithm to test the model performance"
   ]
  },
  {
   "cell_type": "markdown",
   "id": "cdacea76",
   "metadata": {},
   "source": [
    "# Random forest Regressor"
   ]
  },
  {
   "cell_type": "code",
   "execution_count": 63,
   "id": "bddb4a44",
   "metadata": {},
   "outputs": [],
   "source": [
    "from sklearn.ensemble import RandomForestRegressor"
   ]
  },
  {
   "cell_type": "code",
   "execution_count": 64,
   "id": "a746dd54",
   "metadata": {},
   "outputs": [
    {
     "data": {
      "text/plain": [
       "RandomForestRegressor(n_estimators=40)"
      ]
     },
     "execution_count": 64,
     "metadata": {},
     "output_type": "execute_result"
    }
   ],
   "source": [
    "rfr = RandomForestRegressor(n_estimators=40)\n",
    "rfr.fit(xtrain,ytrain)\n",
    "\n"
   ]
  },
  {
   "cell_type": "code",
   "execution_count": 65,
   "id": "c5d22ed7",
   "metadata": {},
   "outputs": [
    {
     "data": {
      "text/plain": [
       "array([468.94220448, 495.8422531 , 490.72596881, 511.94573104,\n",
       "       513.96993998, 547.60259177, 517.56836711, 481.7334653 ,\n",
       "       468.02269871, 513.45014252, 456.18962406, 506.7591341 ,\n",
       "       483.58220487, 535.96629615, 512.70319464, 529.25293188,\n",
       "       487.73457972, 410.35285564, 550.93505548, 492.73850339,\n",
       "       503.70450068, 512.5439261 , 525.70984199, 539.24114977,\n",
       "       501.17627203, 504.35214177, 494.01493911, 488.48837864,\n",
       "       462.24877166, 518.41198296, 471.24640969, 504.11479917,\n",
       "       493.50958157, 474.33833184, 519.37057379, 515.49884404,\n",
       "       512.12568741, 504.04645664, 504.24381753, 520.22483963,\n",
       "       465.42050785, 497.76996412, 495.12306312, 512.10427273,\n",
       "       482.78644652, 518.45602123, 476.27239723, 461.12478312,\n",
       "       491.48851328, 486.85568018, 531.12549272, 481.44131468,\n",
       "       479.20944008, 473.61623092, 482.95547747, 433.38840609,\n",
       "       512.556221  , 524.37711246, 541.24810163, 462.5876665 ,\n",
       "       470.55976797, 468.42250141, 522.57312962, 491.93992567,\n",
       "       469.99599982, 515.63483568, 480.02484849, 525.0256272 ,\n",
       "       536.75182615, 521.28878599, 492.71223046, 493.60123547,\n",
       "       474.81708351, 494.62649624, 473.49805988, 471.16842274,\n",
       "       529.24664735, 490.81975389, 532.97932578, 505.65458637,\n",
       "       493.53297441, 502.06273259, 501.44437762, 525.84608126,\n",
       "       501.39652067, 513.51575544, 493.77385859, 569.93951325,\n",
       "       529.70911112, 507.59203272, 546.64044212, 517.13174758,\n",
       "       468.95211399, 526.28541127, 516.10014398, 510.57667268,\n",
       "       503.90770913, 511.87928437, 498.0688561 , 494.95835022,\n",
       "       506.20087226, 490.39700811, 509.75750757, 500.65056545,\n",
       "       513.0839762 , 470.5320519 , 484.73664419, 515.97378985,\n",
       "       501.46975725, 520.2425493 , 507.85075376, 481.74207887,\n",
       "       523.37828902, 466.85494853, 534.03976248, 462.32236741,\n",
       "       535.32955926, 482.22412844, 482.79959763, 500.38680732,\n",
       "       544.81991683, 549.9358077 , 472.40760417, 492.32501154,\n",
       "       500.75225496])"
      ]
     },
     "execution_count": 65,
     "metadata": {},
     "output_type": "execute_result"
    }
   ],
   "source": [
    "ypred = rfr.predict(xtest)\n",
    "ypred"
   ]
  },
  {
   "cell_type": "markdown",
   "id": "ac192e28",
   "metadata": {},
   "source": [
    "# CrossValidation"
   ]
  },
  {
   "cell_type": "markdown",
   "id": "29f95599",
   "metadata": {},
   "source": [
    "To increase the overall performance of the model lets do the k-fold cross validation wherein the dataset would be split into k sets"
   ]
  },
  {
   "cell_type": "markdown",
   "id": "a7078153",
   "metadata": {},
   "source": [
    "We will create a function \"get_score\" to optimise the code for different models"
   ]
  },
  {
   "cell_type": "raw",
   "id": "9eb0eb34",
   "metadata": {},
   "source": [
    "def get_score(model,xtrain,ytrain,xtest,ytest):\n",
    "    model.fit(xtrain,ytrain)\n",
    "    return model.score(xtest,ytest)\n"
   ]
  },
  {
   "cell_type": "code",
   "execution_count": 68,
   "id": "f413f908",
   "metadata": {},
   "outputs": [
    {
     "ename": "NameError",
     "evalue": "name 'get_score' is not defined",
     "output_type": "error",
     "traceback": [
      "\u001b[1;31m---------------------------------------------------------------------------\u001b[0m",
      "\u001b[1;31mNameError\u001b[0m                                 Traceback (most recent call last)",
      "\u001b[1;32m~\\AppData\\Local\\Temp/ipykernel_32976/1948066441.py\u001b[0m in \u001b[0;36m<module>\u001b[1;34m\u001b[0m\n\u001b[1;32m----> 1\u001b[1;33m \u001b[0mget_score\u001b[0m\u001b[1;33m(\u001b[0m\u001b[0mLinearRegression\u001b[0m\u001b[1;33m(\u001b[0m\u001b[1;33m)\u001b[0m\u001b[1;33m,\u001b[0m\u001b[0mxtrain\u001b[0m\u001b[1;33m,\u001b[0m\u001b[0mytrain\u001b[0m\u001b[1;33m,\u001b[0m\u001b[0mxtest\u001b[0m\u001b[1;33m,\u001b[0m\u001b[0mytest\u001b[0m\u001b[1;33m)\u001b[0m\u001b[1;33m\u001b[0m\u001b[1;33m\u001b[0m\u001b[0m\n\u001b[0m",
      "\u001b[1;31mNameError\u001b[0m: name 'get_score' is not defined"
     ]
    }
   ],
   "source": [
    "get_score(LinearRegression(),xtrain,ytrain,xtest,ytest)"
   ]
  },
  {
   "cell_type": "markdown",
   "id": "042609e6",
   "metadata": {},
   "source": [
    "K-fold cross validation"
   ]
  },
  {
   "cell_type": "markdown",
   "id": "8c8fb0a0",
   "metadata": {},
   "source": [
    "\n",
    "K-fold Cross-Validation is when the dataset is split into a K number of folds and is used to evaluate the model's ability when given new data.K refers to the number of groups the data sample is split into"
   ]
  },
  {
   "cell_type": "code",
   "execution_count": 69,
   "id": "fc04f4c1",
   "metadata": {},
   "outputs": [],
   "source": [
    "from sklearn.model_selection import KFold\n"
   ]
  },
  {
   "cell_type": "code",
   "execution_count": 70,
   "id": "d3c31762",
   "metadata": {},
   "outputs": [
    {
     "data": {
      "text/plain": [
       "KFold(n_splits=5, random_state=1, shuffle=True)"
      ]
     },
     "execution_count": 70,
     "metadata": {},
     "output_type": "execute_result"
    }
   ],
   "source": [
    "kf = KFold(n_splits=5,random_state=1 ,shuffle=True)\n",
    "kf"
   ]
  },
  {
   "cell_type": "code",
   "execution_count": 71,
   "id": "9bba9315",
   "metadata": {},
   "outputs": [],
   "source": [
    "from sklearn.model_selection import cross_val_score"
   ]
  },
  {
   "cell_type": "code",
   "execution_count": 72,
   "id": "74e02721",
   "metadata": {
    "scrolled": false
   },
   "outputs": [],
   "source": [
    "#scores = cross_val_score(lm,x,y,cv = kf,scoring='accuracy',n_jobs=-1)\n",
    "#print('Accuracy: %.3f (%.3f)' % (mean(scores), std(scores)))"
   ]
  },
  {
   "cell_type": "code",
   "execution_count": 73,
   "id": "2c8a41a8",
   "metadata": {},
   "outputs": [],
   "source": [
    "#scores"
   ]
  },
  {
   "cell_type": "code",
   "execution_count": 74,
   "id": "dc209ea6",
   "metadata": {},
   "outputs": [
    {
     "data": {
      "text/plain": [
       "array([-0.02518233,  0.0092219 , -0.00819729,  0.02006776, -0.03824538])"
      ]
     },
     "execution_count": 74,
     "metadata": {},
     "output_type": "execute_result"
    }
   ],
   "source": [
    "from sklearn.model_selection import cross_val_score\n",
    "cvs_linearreg = cross_val_score(LinearRegression(),x,y,cv = kf)\n",
    "cvs_linearreg"
   ]
  },
  {
   "cell_type": "code",
   "execution_count": 76,
   "id": "c2a521cc",
   "metadata": {},
   "outputs": [
    {
     "data": {
      "text/plain": [
       "-0.008467067576430986"
      ]
     },
     "execution_count": 76,
     "metadata": {},
     "output_type": "execute_result"
    }
   ],
   "source": [
    "cvs_linearreg.mean()"
   ]
  },
  {
   "cell_type": "markdown",
   "id": "1de4712d",
   "metadata": {},
   "source": [
    "CrossValidation for RandomForest regressor"
   ]
  },
  {
   "cell_type": "code",
   "execution_count": 77,
   "id": "1105a689",
   "metadata": {},
   "outputs": [
    {
     "data": {
      "text/plain": [
       "array([-0.11471204, -0.16571225, -0.05369078, -0.14006891, -0.25566825])"
      ]
     },
     "execution_count": 77,
     "metadata": {},
     "output_type": "execute_result"
    }
   ],
   "source": [
    "cvs_randomforest = cross_val_score(RandomForestRegressor(n_estimators=40),x,y,cv = kf,n_jobs=-1)\n",
    "cvs_randomforest"
   ]
  },
  {
   "cell_type": "code",
   "execution_count": 78,
   "id": "bee9c885",
   "metadata": {},
   "outputs": [
    {
     "data": {
      "text/plain": [
       "-0.14597044690920366"
      ]
     },
     "execution_count": 78,
     "metadata": {},
     "output_type": "execute_result"
    }
   ],
   "source": [
    "cvs_randomforest.mean()"
   ]
  },
  {
   "cell_type": "markdown",
   "id": "e6e00ca2",
   "metadata": {},
   "source": [
    "Comparision of the RandomForest Regressor and  LinearRegresssion  cross validation score"
   ]
  },
  {
   "cell_type": "code",
   "execution_count": 79,
   "id": "fc55faa7",
   "metadata": {},
   "outputs": [],
   "source": [
    "cvs_score_comparision = pd.DataFrame({\"CrossValidation_LR\":[-0.02518233,  0.0092219 , -0.00819729,  0.02006776, -0.03824538],\n",
    "                                     \"CrossValidation_RF\":[-0.10701862, -0.13402766, -0.13020327, -0.12602057, -0.28535466]})"
   ]
  },
  {
   "cell_type": "code",
   "execution_count": 80,
   "id": "1a3faa9f",
   "metadata": {},
   "outputs": [
    {
     "data": {
      "text/html": [
       "<div>\n",
       "<style scoped>\n",
       "    .dataframe tbody tr th:only-of-type {\n",
       "        vertical-align: middle;\n",
       "    }\n",
       "\n",
       "    .dataframe tbody tr th {\n",
       "        vertical-align: top;\n",
       "    }\n",
       "\n",
       "    .dataframe thead th {\n",
       "        text-align: right;\n",
       "    }\n",
       "</style>\n",
       "<table border=\"1\" class=\"dataframe\">\n",
       "  <thead>\n",
       "    <tr style=\"text-align: right;\">\n",
       "      <th></th>\n",
       "      <th>CrossValidation_LR</th>\n",
       "      <th>CrossValidation_RF</th>\n",
       "    </tr>\n",
       "  </thead>\n",
       "  <tbody>\n",
       "    <tr>\n",
       "      <th>0</th>\n",
       "      <td>-0.025182</td>\n",
       "      <td>-0.107019</td>\n",
       "    </tr>\n",
       "    <tr>\n",
       "      <th>1</th>\n",
       "      <td>0.009222</td>\n",
       "      <td>-0.134028</td>\n",
       "    </tr>\n",
       "    <tr>\n",
       "      <th>2</th>\n",
       "      <td>-0.008197</td>\n",
       "      <td>-0.130203</td>\n",
       "    </tr>\n",
       "    <tr>\n",
       "      <th>3</th>\n",
       "      <td>0.020068</td>\n",
       "      <td>-0.126021</td>\n",
       "    </tr>\n",
       "    <tr>\n",
       "      <th>4</th>\n",
       "      <td>-0.038245</td>\n",
       "      <td>-0.285355</td>\n",
       "    </tr>\n",
       "  </tbody>\n",
       "</table>\n",
       "</div>"
      ],
      "text/plain": [
       "   CrossValidation_LR  CrossValidation_RF\n",
       "0           -0.025182           -0.107019\n",
       "1            0.009222           -0.134028\n",
       "2           -0.008197           -0.130203\n",
       "3            0.020068           -0.126021\n",
       "4           -0.038245           -0.285355"
      ]
     },
     "execution_count": 80,
     "metadata": {},
     "output_type": "execute_result"
    }
   ],
   "source": [
    "cvs_score_comparision"
   ]
  },
  {
   "cell_type": "markdown",
   "id": "255e5df8",
   "metadata": {},
   "source": [
    "CrossValidation_LR has  two positive values and performed better than CrossValidation_RF"
   ]
  },
  {
   "cell_type": "markdown",
   "id": "856933ed",
   "metadata": {},
   "source": [
    "To improve the accracy of the model ,lets do the feature scaling as the dataset features have  different measures.Bringing them on the common scale might improve the accuracy of the data"
   ]
  },
  {
   "cell_type": "markdown",
   "id": "f849cc12",
   "metadata": {},
   "source": [
    "Since the data is normally distributed ,We will be using the minmaxscaler() to scale the data as it preserves the \n",
    "shape of the original distribution and does not reduce the importance of the outliers"
   ]
  },
  {
   "cell_type": "markdown",
   "id": "ff83e54a",
   "metadata": {},
   "source": [
    "Checking the shape of the  train and test data"
   ]
  },
  {
   "cell_type": "code",
   "execution_count": 81,
   "id": "5082b724",
   "metadata": {},
   "outputs": [
    {
     "data": {
      "text/html": [
       "<div>\n",
       "<style scoped>\n",
       "    .dataframe tbody tr th:only-of-type {\n",
       "        vertical-align: middle;\n",
       "    }\n",
       "\n",
       "    .dataframe tbody tr th {\n",
       "        vertical-align: top;\n",
       "    }\n",
       "\n",
       "    .dataframe thead th {\n",
       "        text-align: right;\n",
       "    }\n",
       "</style>\n",
       "<table border=\"1\" class=\"dataframe\">\n",
       "  <thead>\n",
       "    <tr style=\"text-align: right;\">\n",
       "      <th></th>\n",
       "      <th>Avg Session length</th>\n",
       "      <th>Time on App</th>\n",
       "      <th>Time on Website</th>\n",
       "      <th>Length of MemberShip</th>\n",
       "    </tr>\n",
       "  </thead>\n",
       "  <tbody>\n",
       "    <tr>\n",
       "      <th>311</th>\n",
       "      <td>34.474237</td>\n",
       "      <td>11.094889</td>\n",
       "      <td>37.634411</td>\n",
       "      <td>2.205388</td>\n",
       "    </tr>\n",
       "    <tr>\n",
       "      <th>3</th>\n",
       "      <td>32.199577</td>\n",
       "      <td>11.295163</td>\n",
       "      <td>37.425695</td>\n",
       "      <td>5.234337</td>\n",
       "    </tr>\n",
       "    <tr>\n",
       "      <th>498</th>\n",
       "      <td>32.502368</td>\n",
       "      <td>11.708869</td>\n",
       "      <td>38.268295</td>\n",
       "      <td>3.148290</td>\n",
       "    </tr>\n",
       "    <tr>\n",
       "      <th>9</th>\n",
       "      <td>33.696003</td>\n",
       "      <td>12.488779</td>\n",
       "      <td>36.322443</td>\n",
       "      <td>1.965374</td>\n",
       "    </tr>\n",
       "    <tr>\n",
       "      <th>452</th>\n",
       "      <td>31.458388</td>\n",
       "      <td>11.467596</td>\n",
       "      <td>35.845812</td>\n",
       "      <td>3.292072</td>\n",
       "    </tr>\n",
       "    <tr>\n",
       "      <th>...</th>\n",
       "      <td>...</td>\n",
       "      <td>...</td>\n",
       "      <td>...</td>\n",
       "      <td>...</td>\n",
       "    </tr>\n",
       "    <tr>\n",
       "      <th>129</th>\n",
       "      <td>33.298852</td>\n",
       "      <td>10.891190</td>\n",
       "      <td>36.454557</td>\n",
       "      <td>3.960829</td>\n",
       "    </tr>\n",
       "    <tr>\n",
       "      <th>144</th>\n",
       "      <td>33.597525</td>\n",
       "      <td>12.600622</td>\n",
       "      <td>38.725477</td>\n",
       "      <td>2.870866</td>\n",
       "    </tr>\n",
       "    <tr>\n",
       "      <th>72</th>\n",
       "      <td>32.957002</td>\n",
       "      <td>12.930322</td>\n",
       "      <td>36.280190</td>\n",
       "      <td>1.476733</td>\n",
       "    </tr>\n",
       "    <tr>\n",
       "      <th>235</th>\n",
       "      <td>32.838231</td>\n",
       "      <td>11.563166</td>\n",
       "      <td>35.330290</td>\n",
       "      <td>3.140038</td>\n",
       "    </tr>\n",
       "    <tr>\n",
       "      <th>37</th>\n",
       "      <td>33.791117</td>\n",
       "      <td>13.438356</td>\n",
       "      <td>38.590342</td>\n",
       "      <td>3.603812</td>\n",
       "    </tr>\n",
       "  </tbody>\n",
       "</table>\n",
       "<p>498 rows × 4 columns</p>\n",
       "</div>"
      ],
      "text/plain": [
       "     Avg Session length  Time on App  Time on Website  Length of MemberShip\n",
       "311           34.474237    11.094889        37.634411              2.205388\n",
       "3             32.199577    11.295163        37.425695              5.234337\n",
       "498           32.502368    11.708869        38.268295              3.148290\n",
       "9             33.696003    12.488779        36.322443              1.965374\n",
       "452           31.458388    11.467596        35.845812              3.292072\n",
       "..                  ...          ...              ...                   ...\n",
       "129           33.298852    10.891190        36.454557              3.960829\n",
       "144           33.597525    12.600622        38.725477              2.870866\n",
       "72            32.957002    12.930322        36.280190              1.476733\n",
       "235           32.838231    11.563166        35.330290              3.140038\n",
       "37            33.791117    13.438356        38.590342              3.603812\n",
       "\n",
       "[498 rows x 4 columns]"
      ]
     },
     "execution_count": 81,
     "metadata": {},
     "output_type": "execute_result"
    }
   ],
   "source": [
    "xtrain"
   ]
  },
  {
   "cell_type": "markdown",
   "id": "d12473e4",
   "metadata": {},
   "source": [
    "# Feature Scaling"
   ]
  },
  {
   "cell_type": "markdown",
   "id": "16e8370b",
   "metadata": {},
   "source": [
    "We will print the dataset to observe the range of the feature column "
   ]
  },
  {
   "cell_type": "code",
   "execution_count": 82,
   "id": "aaa99d2f",
   "metadata": {},
   "outputs": [
    {
     "data": {
      "text/html": [
       "<div>\n",
       "<style scoped>\n",
       "    .dataframe tbody tr th:only-of-type {\n",
       "        vertical-align: middle;\n",
       "    }\n",
       "\n",
       "    .dataframe tbody tr th {\n",
       "        vertical-align: top;\n",
       "    }\n",
       "\n",
       "    .dataframe thead th {\n",
       "        text-align: right;\n",
       "    }\n",
       "</style>\n",
       "<table border=\"1\" class=\"dataframe\">\n",
       "  <thead>\n",
       "    <tr style=\"text-align: right;\">\n",
       "      <th></th>\n",
       "      <th>Customer ID</th>\n",
       "      <th>Avg Session length</th>\n",
       "      <th>Time on App</th>\n",
       "      <th>Time on Website</th>\n",
       "      <th>Length of MemberShip</th>\n",
       "      <th>Yealy amount spent</th>\n",
       "    </tr>\n",
       "  </thead>\n",
       "  <tbody>\n",
       "    <tr>\n",
       "      <th>0</th>\n",
       "      <td>1</td>\n",
       "      <td>32.538350</td>\n",
       "      <td>12.028846</td>\n",
       "      <td>35.850540</td>\n",
       "      <td>3.648854</td>\n",
       "      <td>576.098273</td>\n",
       "    </tr>\n",
       "    <tr>\n",
       "      <th>1</th>\n",
       "      <td>2</td>\n",
       "      <td>34.206718</td>\n",
       "      <td>12.226851</td>\n",
       "      <td>37.246443</td>\n",
       "      <td>1.987536</td>\n",
       "      <td>460.784955</td>\n",
       "    </tr>\n",
       "    <tr>\n",
       "      <th>2</th>\n",
       "      <td>3</td>\n",
       "      <td>31.535240</td>\n",
       "      <td>11.814341</td>\n",
       "      <td>36.610697</td>\n",
       "      <td>3.351191</td>\n",
       "      <td>349.739791</td>\n",
       "    </tr>\n",
       "    <tr>\n",
       "      <th>3</th>\n",
       "      <td>4</td>\n",
       "      <td>32.199577</td>\n",
       "      <td>11.295163</td>\n",
       "      <td>37.425695</td>\n",
       "      <td>5.234337</td>\n",
       "      <td>547.709921</td>\n",
       "    </tr>\n",
       "    <tr>\n",
       "      <th>4</th>\n",
       "      <td>5</td>\n",
       "      <td>33.570137</td>\n",
       "      <td>13.500972</td>\n",
       "      <td>36.856165</td>\n",
       "      <td>3.938603</td>\n",
       "      <td>487.055641</td>\n",
       "    </tr>\n",
       "    <tr>\n",
       "      <th>...</th>\n",
       "      <td>...</td>\n",
       "      <td>...</td>\n",
       "      <td>...</td>\n",
       "      <td>...</td>\n",
       "      <td>...</td>\n",
       "      <td>...</td>\n",
       "    </tr>\n",
       "    <tr>\n",
       "      <th>618</th>\n",
       "      <td>619</td>\n",
       "      <td>31.941434</td>\n",
       "      <td>11.158640</td>\n",
       "      <td>36.846959</td>\n",
       "      <td>3.219605</td>\n",
       "      <td>559.546775</td>\n",
       "    </tr>\n",
       "    <tr>\n",
       "      <th>619</th>\n",
       "      <td>620</td>\n",
       "      <td>33.446133</td>\n",
       "      <td>12.374820</td>\n",
       "      <td>37.592235</td>\n",
       "      <td>4.917733</td>\n",
       "      <td>515.186966</td>\n",
       "    </tr>\n",
       "    <tr>\n",
       "      <th>620</th>\n",
       "      <td>621</td>\n",
       "      <td>32.967749</td>\n",
       "      <td>11.392061</td>\n",
       "      <td>36.916664</td>\n",
       "      <td>2.955718</td>\n",
       "      <td>601.715746</td>\n",
       "    </tr>\n",
       "    <tr>\n",
       "      <th>621</th>\n",
       "      <td>622</td>\n",
       "      <td>33.469949</td>\n",
       "      <td>11.930872</td>\n",
       "      <td>37.744155</td>\n",
       "      <td>4.577850</td>\n",
       "      <td>477.741395</td>\n",
       "    </tr>\n",
       "    <tr>\n",
       "      <th>622</th>\n",
       "      <td>623</td>\n",
       "      <td>33.443393</td>\n",
       "      <td>12.978933</td>\n",
       "      <td>37.311979</td>\n",
       "      <td>3.575459</td>\n",
       "      <td>390.149419</td>\n",
       "    </tr>\n",
       "  </tbody>\n",
       "</table>\n",
       "<p>623 rows × 6 columns</p>\n",
       "</div>"
      ],
      "text/plain": [
       "     Customer ID  Avg Session length  Time on App  Time on Website  \\\n",
       "0              1           32.538350    12.028846        35.850540   \n",
       "1              2           34.206718    12.226851        37.246443   \n",
       "2              3           31.535240    11.814341        36.610697   \n",
       "3              4           32.199577    11.295163        37.425695   \n",
       "4              5           33.570137    13.500972        36.856165   \n",
       "..           ...                 ...          ...              ...   \n",
       "618          619           31.941434    11.158640        36.846959   \n",
       "619          620           33.446133    12.374820        37.592235   \n",
       "620          621           32.967749    11.392061        36.916664   \n",
       "621          622           33.469949    11.930872        37.744155   \n",
       "622          623           33.443393    12.978933        37.311979   \n",
       "\n",
       "     Length of MemberShip  Yealy amount spent  \n",
       "0                3.648854          576.098273  \n",
       "1                1.987536          460.784955  \n",
       "2                3.351191          349.739791  \n",
       "3                5.234337          547.709921  \n",
       "4                3.938603          487.055641  \n",
       "..                    ...                 ...  \n",
       "618              3.219605          559.546775  \n",
       "619              4.917733          515.186966  \n",
       "620              2.955718          601.715746  \n",
       "621              4.577850          477.741395  \n",
       "622              3.575459          390.149419  \n",
       "\n",
       "[623 rows x 6 columns]"
      ]
     },
     "execution_count": 82,
     "metadata": {},
     "output_type": "execute_result"
    }
   ],
   "source": [
    "df"
   ]
  },
  {
   "cell_type": "code",
   "execution_count": 83,
   "id": "9766ee1c",
   "metadata": {},
   "outputs": [
    {
     "data": {
      "text/html": [
       "<div>\n",
       "<style scoped>\n",
       "    .dataframe tbody tr th:only-of-type {\n",
       "        vertical-align: middle;\n",
       "    }\n",
       "\n",
       "    .dataframe tbody tr th {\n",
       "        vertical-align: top;\n",
       "    }\n",
       "\n",
       "    .dataframe thead th {\n",
       "        text-align: right;\n",
       "    }\n",
       "</style>\n",
       "<table border=\"1\" class=\"dataframe\">\n",
       "  <thead>\n",
       "    <tr style=\"text-align: right;\">\n",
       "      <th></th>\n",
       "      <th>Customer ID</th>\n",
       "      <th>Avg Session length</th>\n",
       "      <th>Time on App</th>\n",
       "      <th>Time on Website</th>\n",
       "      <th>Length of MemberShip</th>\n",
       "      <th>Yealy amount spent</th>\n",
       "    </tr>\n",
       "  </thead>\n",
       "  <tbody>\n",
       "    <tr>\n",
       "      <th>0</th>\n",
       "      <td>1</td>\n",
       "      <td>32.53835</td>\n",
       "      <td>12.028846</td>\n",
       "      <td>35.85054</td>\n",
       "      <td>3.648854</td>\n",
       "      <td>576.098273</td>\n",
       "    </tr>\n",
       "  </tbody>\n",
       "</table>\n",
       "</div>"
      ],
      "text/plain": [
       "   Customer ID  Avg Session length  Time on App  Time on Website  \\\n",
       "0            1            32.53835    12.028846         35.85054   \n",
       "\n",
       "   Length of MemberShip  Yealy amount spent  \n",
       "0              3.648854          576.098273  "
      ]
     },
     "execution_count": 83,
     "metadata": {},
     "output_type": "execute_result"
    }
   ],
   "source": [
    "df.head(1) #loading the first row of the dataset"
   ]
  },
  {
   "cell_type": "markdown",
   "id": "c2a2336b",
   "metadata": {},
   "source": [
    "From the first row it is evident that the each column has a different range and scale.Example Yearly amount spent might be in \n",
    "dollars and \"length of the membership\" might be in years-months and \"time on website\" might be in hours-seconds etc\n",
    "Hence to improve the performanve of the model and accuracy we will do the feature scaling "
   ]
  },
  {
   "cell_type": "markdown",
   "id": "868e1783",
   "metadata": {},
   "source": [
    "MinMax scaler"
   ]
  },
  {
   "cell_type": "markdown",
   "id": "34e2ee08",
   "metadata": {},
   "source": [
    "This estimator scales and translates each feature individually such that it is in the given range on the training set, e.g., between zero and one. \n",
    "This Scaler shrinks the data within the range of -1 to 1 if there are negative values. \n",
    "This Scaler responds well if the standard deviation is small and is sensitive to outliers"
   ]
  },
  {
   "cell_type": "code",
   "execution_count": 84,
   "id": "34139bec",
   "metadata": {},
   "outputs": [],
   "source": [
    "from sklearn.preprocessing import MinMaxScaler"
   ]
  },
  {
   "cell_type": "code",
   "execution_count": 85,
   "id": "db9be600",
   "metadata": {},
   "outputs": [],
   "source": [
    "scaler = MinMaxScaler()"
   ]
  },
  {
   "cell_type": "code",
   "execution_count": 86,
   "id": "3b5a626d",
   "metadata": {},
   "outputs": [],
   "source": [
    "xtrain = scaler.fit_transform(xtrain)\n",
    "xtest = scaler.fit_transform(xtest)"
   ]
  },
  {
   "cell_type": "code",
   "execution_count": 87,
   "id": "223241e8",
   "metadata": {},
   "outputs": [
    {
     "data": {
      "text/plain": [
       "array([[0.77994586, 0.32720676, 0.55025734, 0.24013797],\n",
       "       [0.38586851, 0.36318043, 0.52068284, 0.79369287],\n",
       "       [0.43832594, 0.43749113, 0.64007674, 0.41245773],\n",
       "       ...,\n",
       "       [0.5170899 , 0.65689091, 0.35836837, 0.10697274],\n",
       "       [0.49651316, 0.41131952, 0.22377047, 0.41094962],\n",
       "       [0.66159755, 0.74814484, 0.68570968, 0.49570658]])"
      ]
     },
     "execution_count": 87,
     "metadata": {},
     "output_type": "execute_result"
    }
   ],
   "source": [
    "xtrain"
   ]
  },
  {
   "cell_type": "code",
   "execution_count": 88,
   "id": "903c2739",
   "metadata": {},
   "outputs": [
    {
     "data": {
      "text/plain": [
       "array([[5.28905875e-01, 5.33581840e-01, 3.11690397e-01, 2.82472581e-01],\n",
       "       [3.73661973e-01, 6.05144883e-01, 2.84456513e-01, 4.69756476e-01],\n",
       "       [1.93118072e-01, 2.91334245e-01, 6.17288903e-01, 4.21935933e-01],\n",
       "       [4.08280206e-01, 4.43302002e-01, 6.43283142e-01, 1.41869244e-02],\n",
       "       [3.88958037e-01, 3.25431229e-01, 4.85259370e-01, 3.41852116e-01],\n",
       "       [7.74492470e-01, 2.78969933e-01, 7.23667108e-01, 3.65191339e-01],\n",
       "       [3.21957663e-01, 4.95488574e-01, 5.51600589e-01, 1.33249819e-01],\n",
       "       [7.04864090e-01, 5.55108829e-01, 4.57338419e-01, 4.18347311e-01],\n",
       "       [1.45478117e-01, 7.90079701e-01, 5.85103647e-01, 3.27141775e-01],\n",
       "       [3.19778176e-01, 4.21657959e-01, 7.23737602e-01, 6.36541045e-01],\n",
       "       [5.16027947e-01, 3.03430075e-01, 3.71394904e-01, 3.03456307e-01],\n",
       "       [1.70770529e-01, 2.43254956e-01, 4.59459894e-01, 3.52229610e-01],\n",
       "       [3.52898128e-01, 3.20328216e-01, 3.26530606e-01, 4.04343495e-01],\n",
       "       [3.19678837e-01, 6.64701719e-01, 4.58654756e-01, 6.16110131e-01],\n",
       "       [5.81772985e-02, 4.80645576e-01, 5.39684328e-01, 1.00046648e-01],\n",
       "       [3.89533972e-01, 4.23864140e-01, 4.97561178e-01, 3.01606607e-01],\n",
       "       [8.76435656e-01, 5.23756946e-01, 6.97850083e-01, 6.26493038e-01],\n",
       "       [5.48005687e-01, 2.27589642e-01, 7.43161626e-01, 7.82308578e-01],\n",
       "       [5.82806272e-01, 4.72612905e-01, 5.39638977e-01, 1.25659830e-01],\n",
       "       [2.44271675e-01, 8.99706617e-02, 2.70627887e-01, 3.36853091e-01],\n",
       "       [8.86519228e-01, 5.68068554e-01, 6.56935341e-01, 3.81975645e-01],\n",
       "       [4.72472382e-01, 5.25402911e-01, 5.87032195e-01, 4.24648902e-01],\n",
       "       [5.95781571e-01, 7.95788354e-02, 5.38102639e-01, 2.78565096e-02],\n",
       "       [3.41773066e-01, 6.30250240e-01, 6.02678672e-01, 4.68524514e-01],\n",
       "       [4.02402358e-01, 3.64167582e-01, 7.23803207e-01, 4.56632382e-01],\n",
       "       [4.71793130e-01, 6.54406292e-01, 8.50167437e-01, 5.81909379e-01],\n",
       "       [5.69048393e-02, 4.52729204e-01, 1.53891415e-01, 2.46770019e-01],\n",
       "       [7.46185236e-01, 3.44288235e-01, 3.56555986e-01, 4.25950252e-01],\n",
       "       [2.47665400e-01, 2.30807176e-01, 2.74546360e-01, 2.35716719e-01],\n",
       "       [1.38790253e-01, 0.00000000e+00, 4.61488304e-01, 6.36407494e-01],\n",
       "       [4.84499024e-01, 4.00677821e-01, 4.29219074e-01, 1.00000000e+00],\n",
       "       [3.59325412e-01, 8.11053848e-01, 4.99790982e-01, 4.28248809e-01],\n",
       "       [4.34481184e-01, 6.96383881e-01, 4.25633553e-01, 5.75279606e-01],\n",
       "       [3.95462197e-01, 4.90068902e-01, 3.99441783e-01, 5.08129056e-01],\n",
       "       [5.75821253e-01, 6.00451494e-01, 5.27624406e-01, 5.83234600e-01],\n",
       "       [1.18038857e-01, 1.89688584e-01, 7.66864535e-01, 3.10072144e-01],\n",
       "       [2.51469318e-01, 2.83065810e-01, 5.22928694e-01, 4.82641667e-01],\n",
       "       [2.86630469e-01, 4.40093664e-01, 2.73368257e-01, 4.68633872e-01],\n",
       "       [3.14544666e-01, 5.22316401e-01, 5.83357894e-01, 3.66710774e-01],\n",
       "       [4.31916094e-01, 1.83143840e-01, 5.72835866e-01, 1.21257829e-01],\n",
       "       [4.57749965e-01, 5.09941847e-01, 3.21152483e-01, 7.53005717e-01],\n",
       "       [7.01835227e-02, 2.88701366e-01, 6.88753605e-01, 5.70165072e-01],\n",
       "       [5.71410454e-01, 3.03100778e-01, 4.78134465e-01, 5.58416660e-01],\n",
       "       [3.28408593e-01, 4.67991273e-01, 5.34395809e-01, 1.21965263e-01],\n",
       "       [3.38821115e-01, 3.05550736e-01, 3.87940675e-01, 3.26606615e-01],\n",
       "       [3.72923055e-01, 5.90832307e-01, 4.41677908e-01, 6.44919687e-01],\n",
       "       [4.20133191e-01, 5.71266267e-01, 7.00498357e-01, 1.87454933e-01],\n",
       "       [1.55791328e-01, 3.77552694e-01, 3.14419407e-01, 7.42150884e-02],\n",
       "       [2.33440532e-01, 6.94518964e-01, 7.58936723e-01, 9.02309872e-01],\n",
       "       [4.07429604e-01, 3.68534516e-01, 6.41833617e-01, 6.47545881e-01],\n",
       "       [2.09202841e-01, 4.64102867e-01, 4.55721473e-01, 5.36523392e-01],\n",
       "       [5.01540768e-01, 3.90276199e-01, 1.94323171e-01, 6.10795434e-01],\n",
       "       [5.16468013e-01, 9.24122619e-01, 6.81942298e-01, 4.79222209e-01],\n",
       "       [7.51982942e-01, 5.81511384e-01, 2.67905581e-01, 6.93298633e-01],\n",
       "       [3.31063145e-01, 3.63885927e-01, 4.66775803e-01, 6.48891659e-01],\n",
       "       [5.12608892e-01, 1.16717782e-01, 5.22252981e-01, 9.73895610e-01],\n",
       "       [7.83080368e-01, 2.99722852e-01, 3.78757491e-01, 1.79780287e-01],\n",
       "       [4.18898372e-01, 4.05776138e-01, 5.52331268e-01, 3.15210789e-01],\n",
       "       [5.56762894e-01, 2.56272782e-01, 7.63536431e-01, 1.83469063e-01],\n",
       "       [4.24437604e-01, 1.82634419e-01, 3.44557294e-01, 6.11144545e-01],\n",
       "       [6.76034618e-02, 3.76988333e-01, 5.84604482e-01, 4.55160734e-01],\n",
       "       [4.66429859e-01, 5.14288615e-01, 2.71853712e-01, 5.15329159e-01],\n",
       "       [2.19403015e-01, 3.90919175e-01, 4.67996766e-01, 3.63302148e-01],\n",
       "       [8.09963623e-01, 8.33626743e-01, 1.00000000e+00, 3.43336468e-01],\n",
       "       [7.04721513e-01, 3.61174275e-01, 2.39406524e-01, 5.24377943e-01],\n",
       "       [0.00000000e+00, 6.48480081e-01, 4.01342146e-01, 5.43146364e-01],\n",
       "       [1.73580060e-01, 2.05927991e-01, 3.01701799e-01, 5.67290055e-01],\n",
       "       [5.49821241e-01, 3.26072987e-01, 5.29300133e-01, 0.00000000e+00],\n",
       "       [5.96054903e-01, 4.27694763e-01, 6.35056384e-01, 3.77785739e-01],\n",
       "       [6.99180565e-01, 4.10101304e-01, 4.89767953e-01, 6.48889993e-01],\n",
       "       [5.37296386e-01, 4.50738105e-01, 5.66267882e-01, 4.88842609e-01],\n",
       "       [2.14915098e-01, 6.84010656e-01, 4.63731424e-01, 2.66180036e-01],\n",
       "       [4.63391897e-01, 3.88711179e-01, 8.55440557e-01, 6.63543837e-01],\n",
       "       [5.45406810e-01, 6.41515051e-01, 3.84140054e-01, 3.11795250e-02],\n",
       "       [3.83117593e-01, 1.39885618e-01, 3.74713740e-01, 4.16565085e-01],\n",
       "       [2.79237142e-01, 9.21177740e-01, 3.46897245e-01, 4.76338234e-01],\n",
       "       [7.14128917e-02, 4.93991032e-01, 3.26592850e-01, 7.58713175e-01],\n",
       "       [5.12063641e-01, 5.89907867e-01, 4.63388075e-01, 4.75150553e-01],\n",
       "       [5.45291161e-01, 5.06971442e-01, 6.00605138e-01, 1.74266513e-02],\n",
       "       [5.27802049e-01, 3.61135300e-01, 4.80628221e-01, 3.62107430e-01],\n",
       "       [4.82054386e-01, 6.82340639e-01, 6.40762364e-01, 3.64358394e-01],\n",
       "       [1.44383020e-01, 2.83400285e-01, 4.71405556e-01, 3.90119761e-01],\n",
       "       [3.67393917e-01, 6.09611263e-01, 4.32130285e-01, 3.52928886e-01],\n",
       "       [1.47646165e-01, 8.72774810e-02, 4.24747569e-01, 6.85790222e-01],\n",
       "       [3.53710082e-02, 4.90371227e-01, 4.08915713e-01, 5.39723808e-01],\n",
       "       [3.81115803e-01, 3.98229846e-01, 4.78907794e-01, 5.34651702e-01],\n",
       "       [4.34356239e-01, 2.31231787e-01, 6.58508547e-01, 4.98263622e-01],\n",
       "       [2.60960005e-01, 4.01859383e-01, 9.42225517e-01, 2.31948579e-01],\n",
       "       [8.11824783e-01, 2.39077396e-01, 7.61024925e-01, 5.81855894e-01],\n",
       "       [4.57931014e-01, 4.58586127e-01, 4.62213008e-01, 3.96925059e-01],\n",
       "       [2.20590040e-01, 3.80873718e-01, 1.77355672e-01, 6.05420845e-01],\n",
       "       [1.73051309e-01, 5.86546736e-01, 8.36409611e-01, 4.07281840e-01],\n",
       "       [3.00880434e-01, 9.28805960e-01, 6.69534931e-01, 5.72150606e-01],\n",
       "       [4.13566679e-01, 3.89180926e-01, 2.78166388e-01, 3.46221187e-01],\n",
       "       [3.59708483e-01, 3.08575024e-01, 7.21289222e-01, 6.10234509e-01],\n",
       "       [6.57544208e-01, 9.85273233e-02, 3.79227608e-01, 5.34308002e-01],\n",
       "       [4.75304492e-01, 6.54551272e-01, 6.28988716e-01, 4.42428252e-01],\n",
       "       [4.86370309e-01, 4.80977450e-01, 6.55067447e-01, 4.74840210e-01],\n",
       "       [4.29744121e-01, 4.27240584e-01, 5.30130029e-01, 4.85346699e-01],\n",
       "       [8.54165473e-01, 8.55636477e-01, 4.63314675e-01, 1.41905435e-01],\n",
       "       [3.74094678e-01, 7.47377150e-01, 5.27062864e-01, 5.58633933e-01],\n",
       "       [4.04388733e-01, 2.53143200e-01, 6.69989601e-01, 6.12402434e-01],\n",
       "       [1.00000000e+00, 3.99208413e-01, 4.92000983e-01, 3.34529438e-01],\n",
       "       [3.19942348e-01, 6.63170689e-02, 7.13483924e-02, 6.40969921e-01],\n",
       "       [5.83240181e-01, 1.45351790e-01, 9.15499104e-01, 3.64790028e-01],\n",
       "       [3.19271139e-01, 5.43608623e-01, 3.50382360e-01, 8.18508189e-02],\n",
       "       [4.83497452e-01, 4.35638176e-01, 3.82204315e-01, 3.76409174e-01],\n",
       "       [1.24811400e-03, 3.35991695e-01, 5.31822038e-01, 5.44990495e-01],\n",
       "       [2.37774018e-01, 8.17954993e-01, 7.94754328e-01, 4.57547005e-01],\n",
       "       [4.03182522e-01, 3.52061955e-01, 5.49150348e-01, 6.10698136e-01],\n",
       "       [4.46226764e-01, 4.91094557e-01, 5.16682834e-01, 3.36060075e-01],\n",
       "       [3.29585547e-01, 4.35120178e-01, 4.02103005e-01, 4.24356648e-01],\n",
       "       [1.04811295e-01, 5.16551878e-01, 0.00000000e+00, 6.01172384e-01],\n",
       "       [3.49946120e-02, 1.00000000e+00, 2.81028429e-01, 4.14094014e-01],\n",
       "       [7.43665609e-01, 4.64474581e-01, 6.08687908e-01, 2.73547100e-01],\n",
       "       [5.79771980e-01, 8.12008576e-01, 3.84080431e-01, 2.81693534e-01],\n",
       "       [2.88742875e-01, 3.58509795e-01, 5.26983148e-01, 1.58335148e-01],\n",
       "       [4.10788239e-01, 9.83296097e-04, 2.97515255e-01, 3.66549632e-01],\n",
       "       [7.71820898e-01, 7.38832529e-01, 6.94703626e-01, 4.95924181e-01],\n",
       "       [4.13321946e-01, 3.59185596e-01, 2.24737034e-01, 4.42279602e-01],\n",
       "       [9.11870992e-01, 1.86802256e-01, 5.28354469e-01, 3.18827142e-01],\n",
       "       [3.37749863e-01, 4.90789507e-01, 6.00197812e-01, 4.40001580e-01],\n",
       "       [7.14187783e-01, 5.43770074e-01, 4.58187469e-01, 5.13592784e-01],\n",
       "       [1.69323715e-01, 1.65197827e-01, 1.36474006e-01, 4.58715565e-01],\n",
       "       [2.45282519e-01, 5.95423398e-01, 3.55010690e-01, 3.80784735e-01]])"
      ]
     },
     "execution_count": 88,
     "metadata": {},
     "output_type": "execute_result"
    }
   ],
   "source": [
    "xtest"
   ]
  },
  {
   "cell_type": "code",
   "execution_count": 89,
   "id": "9d472712",
   "metadata": {},
   "outputs": [],
   "source": [
    "ytrain = np.array(ytrain).reshape(-1,1)"
   ]
  },
  {
   "cell_type": "code",
   "execution_count": 90,
   "id": "682f2722",
   "metadata": {},
   "outputs": [
    {
     "data": {
      "text/plain": [
       "array([[519.9172503],\n",
       "       [547.7099206],\n",
       "       [454.1013747],\n",
       "       [775.3376264],\n",
       "       [587.7284004],\n",
       "       [453.1538155],\n",
       "       [477.1383803],\n",
       "       [436.4414613],\n",
       "       [562.5788846],\n",
       "       [557.7796207],\n",
       "       [378.0998039],\n",
       "       [485.7875287],\n",
       "       [399.7951066],\n",
       "       [489.3190778],\n",
       "       [454.5756406],\n",
       "       [498.8061365],\n",
       "       [454.1220746],\n",
       "       [469.8050485],\n",
       "       [515.269332 ],\n",
       "       [385.867739 ],\n",
       "       [498.7771182],\n",
       "       [434.1229236],\n",
       "       [552.1396572],\n",
       "       [436.946162 ],\n",
       "       [521.4339094],\n",
       "       [448.1110244],\n",
       "       [534.5276137],\n",
       "       [544.2897308],\n",
       "       [479.1500562],\n",
       "       [630.7542373],\n",
       "       [359.9859116],\n",
       "       [545.7625589],\n",
       "       [482.9731948],\n",
       "       [549.4124213],\n",
       "       [578.5380168],\n",
       "       [463.1398415],\n",
       "       [452.6075126],\n",
       "       [393.6693844],\n",
       "       [549.8396353],\n",
       "       [485.0237966],\n",
       "       [470.7157422],\n",
       "       [676.8736181],\n",
       "       [500.5145954],\n",
       "       [418.9765161],\n",
       "       [542.9962973],\n",
       "       [596.3370146],\n",
       "       [448.6376499],\n",
       "       [519.827873 ],\n",
       "       [551.8326241],\n",
       "       [521.100108 ],\n",
       "       [463.2465474],\n",
       "       [589.2271148],\n",
       "       [427.4000624],\n",
       "       [582.6547716],\n",
       "       [608.3759755],\n",
       "       [487.0556406],\n",
       "       [502.14497  ],\n",
       "       [415.9938014],\n",
       "       [515.9010568],\n",
       "       [438.2236997],\n",
       "       [436.086252 ],\n",
       "       [598.2842773],\n",
       "       [627.4084291],\n",
       "       [607.67224  ],\n",
       "       [460.129147 ],\n",
       "       [653.5725244],\n",
       "       [439.5167989],\n",
       "       [554.5567791],\n",
       "       [653.8003674],\n",
       "       [558.0124942],\n",
       "       [423.0439288],\n",
       "       [349.6946424],\n",
       "       [580.6758046],\n",
       "       [439.7828143],\n",
       "       [539.7945157],\n",
       "       [537.5357992],\n",
       "       [457.4069025],\n",
       "       [620.6465935],\n",
       "       [454.3505661],\n",
       "       [481.685133 ],\n",
       "       [485.767532 ],\n",
       "       [393.2061241],\n",
       "       [471.0444471],\n",
       "       [513.8227325],\n",
       "       [485.7689853],\n",
       "       [546.9649678],\n",
       "       [534.7754121],\n",
       "       [515.2766025],\n",
       "       [556.0990068],\n",
       "       [455.9753226],\n",
       "       [430.186198 ],\n",
       "       [607.942463 ],\n",
       "       [608.8420287],\n",
       "       [483.3407179],\n",
       "       [449.9906984],\n",
       "       [524.8080605],\n",
       "       [444.763782 ],\n",
       "       [756.2356326],\n",
       "       [467.7037389],\n",
       "       [556.4795929],\n",
       "       [457.0372844],\n",
       "       [519.0354255],\n",
       "       [553.5758321],\n",
       "       [282.3120001],\n",
       "       [399.8596689],\n",
       "       [502.3561828],\n",
       "       [438.1232998],\n",
       "       [456.0131607],\n",
       "       [433.7605981],\n",
       "       [594.4025522],\n",
       "       [595.9609102],\n",
       "       [506.5756718],\n",
       "       [369.5596391],\n",
       "       [442.4614877],\n",
       "       [507.6384204],\n",
       "       [536.8961279],\n",
       "       [551.129391 ],\n",
       "       [626.4299916],\n",
       "       [502.3649345],\n",
       "       [428.1030722],\n",
       "       [441.7845383],\n",
       "       [431.9420702],\n",
       "       [471.1242158],\n",
       "       [426.1768385],\n",
       "       [272.6415784],\n",
       "       [463.1871318],\n",
       "       [474.2197047],\n",
       "       [493.5551702],\n",
       "       [519.2635613],\n",
       "       [487.6371849],\n",
       "       [588.6696619],\n",
       "       [678.6915195],\n",
       "       [510.9207022],\n",
       "       [496.7040077],\n",
       "       [594.7575196],\n",
       "       [520.1384452],\n",
       "       [439.8082605],\n",
       "       [619.7149275],\n",
       "       [349.7397911],\n",
       "       [587.4092973],\n",
       "       [514.3756638],\n",
       "       [590.7925627],\n",
       "       [645.2085764],\n",
       "       [538.4025668],\n",
       "       [471.7229986],\n",
       "       [572.7554691],\n",
       "       [504.8241048],\n",
       "       [573.0443164],\n",
       "       [495.8929304],\n",
       "       [623.4001475],\n",
       "       [426.1335807],\n",
       "       [620.754081 ],\n",
       "       [443.169106 ],\n",
       "       [608.2369568],\n",
       "       [381.884183 ],\n",
       "       [374.6147422],\n",
       "       [609.1099358],\n",
       "       [412.2867084],\n",
       "       [486.7358711],\n",
       "       [346.9106448],\n",
       "       [502.4562995],\n",
       "       [481.5641261],\n",
       "       [583.0345438],\n",
       "       [555.1608718],\n",
       "       [628.0977433],\n",
       "       [410.1028673],\n",
       "       [563.3331157],\n",
       "       [482.3892617],\n",
       "       [609.4763376],\n",
       "       [475.7321227],\n",
       "       [481.2947955],\n",
       "       [468.5923871],\n",
       "       [484.0592056],\n",
       "       [444.3008845],\n",
       "       [548.6217463],\n",
       "       [497.8243057],\n",
       "       [475.9013941],\n",
       "       [570.2048232],\n",
       "       [455.7756774],\n",
       "       [488.2720288],\n",
       "       [477.621253 ],\n",
       "       [467.0047628],\n",
       "       [637.6337876],\n",
       "       [481.1583513],\n",
       "       [519.0386504],\n",
       "       [387.8283878],\n",
       "       [472.6077209],\n",
       "       [460.7849552],\n",
       "       [442.5760184],\n",
       "       [572.4401048],\n",
       "       [501.3371532],\n",
       "       [532.1089144],\n",
       "       [537.6096914],\n",
       "       [414.4041912],\n",
       "       [517.8128455],\n",
       "       [608.8041313],\n",
       "       [523.9978077],\n",
       "       [577.4822194],\n",
       "       [517.3468095],\n",
       "       [488.9329534],\n",
       "       [600.1823846],\n",
       "       [643.1627925],\n",
       "       [465.7826715],\n",
       "       [581.0883934],\n",
       "       [555.4959761],\n",
       "       [554.7968189],\n",
       "       [390.1494187],\n",
       "       [410.5231886],\n",
       "       [557.1149372],\n",
       "       [425.7993991],\n",
       "       [451.6223248],\n",
       "       [417.0041182],\n",
       "       [443.8435772],\n",
       "       [514.537872 ],\n",
       "       [407.6942588],\n",
       "       [527.2525444],\n",
       "       [468.4053073],\n",
       "       [441.018772 ],\n",
       "       [525.059468 ],\n",
       "       [483.9792255],\n",
       "       [528.7922727],\n",
       "       [557.1334141],\n",
       "       [528.6550261],\n",
       "       [555.7223352],\n",
       "       [483.6584599],\n",
       "       [396.4849712],\n",
       "       [618.2655859],\n",
       "       [483.1403769],\n",
       "       [507.2432103],\n",
       "       [457.8423544],\n",
       "       [491.5930469],\n",
       "       [566.8024937],\n",
       "       [510.2641452],\n",
       "       [454.4651591],\n",
       "       [565.7169837],\n",
       "       [320.9000075],\n",
       "       [357.0389363],\n",
       "       [518.9233614],\n",
       "       [627.1634875],\n",
       "       [435.8246358],\n",
       "       [417.4936392],\n",
       "       [502.8602937],\n",
       "       [420.4751933],\n",
       "       [562.0351512],\n",
       "       [542.9176938],\n",
       "       [436.1812919],\n",
       "       [559.1563535],\n",
       "       [570.1462702],\n",
       "       [543.8909757],\n",
       "       [450.7150681],\n",
       "       [581.8577156],\n",
       "       [482.3688012],\n",
       "       [637.3359944],\n",
       "       [429.1957761],\n",
       "       [413.4110951],\n",
       "       [502.6475645],\n",
       "       [387.0530951],\n",
       "       [429.3811602],\n",
       "       [567.0954016],\n",
       "       [643.4806647],\n",
       "       [388.276063 ],\n",
       "       [470.6741064],\n",
       "       [511.0490539],\n",
       "       [555.3352056],\n",
       "       [599.8086643],\n",
       "       [385.160358 ],\n",
       "       [535.9307181],\n",
       "       [302.2650062],\n",
       "       [552.0793798],\n",
       "       [591.9286449],\n",
       "       [431.2977529],\n",
       "       [349.8485797],\n",
       "       [520.4820506],\n",
       "       [556.1454116],\n",
       "       [432.0901531],\n",
       "       [454.3761593],\n",
       "       [505.7430371],\n",
       "       [449.7117066],\n",
       "       [488.0104825],\n",
       "       [471.2010718],\n",
       "       [386.2546913],\n",
       "       [546.7733306],\n",
       "       [536.0106315],\n",
       "       [450.1583084],\n",
       "       [477.7413953],\n",
       "       [607.2070326],\n",
       "       [522.6999379],\n",
       "       [575.8336553],\n",
       "       [419.8372646],\n",
       "       [436.0887706],\n",
       "       [466.0891214],\n",
       "       [765.       ],\n",
       "       [435.903742 ],\n",
       "       [520.0302435],\n",
       "       [611.0152904],\n",
       "       [422.3687586],\n",
       "       [606.6643209],\n",
       "       [491.2880049],\n",
       "       [418.8409089],\n",
       "       [369.0310514],\n",
       "       [420.7094557],\n",
       "       [485.5087286],\n",
       "       [535.6674487],\n",
       "       [523.7956663],\n",
       "       [644.4585521],\n",
       "       [485.3190639],\n",
       "       [389.6085252],\n",
       "       [584.1987439],\n",
       "       [460.2053572],\n",
       "       [734.7205238],\n",
       "       [434.3641334],\n",
       "       [510.3973739],\n",
       "       [502.4643795],\n",
       "       [318.0003614],\n",
       "       [496.5012558],\n",
       "       [378.7999609],\n",
       "       [502.1233025],\n",
       "       [508.4482907],\n",
       "       [419.834333 ],\n",
       "       [497.6773198],\n",
       "       [529.670898 ],\n",
       "       [513.706367 ],\n",
       "       [462.9224355],\n",
       "       [526.2814645],\n",
       "       [520.9917061],\n",
       "       [567.4911794],\n",
       "       [556.4183792],\n",
       "       [398.2836131],\n",
       "       [469.2836626],\n",
       "       [528.0806199],\n",
       "       [451.1069278],\n",
       "       [483.0934112],\n",
       "       [411.1795684],\n",
       "       [529.8127868],\n",
       "       [515.1869656],\n",
       "       [552.1847637],\n",
       "       [519.7409597],\n",
       "       [516.2664442],\n",
       "       [408.3039974],\n",
       "       [553.929715 ],\n",
       "       [435.3533869],\n",
       "       [468.5121482],\n",
       "       [540.7455911],\n",
       "       [515.4803425],\n",
       "       [434.6231535],\n",
       "       [556.6208281],\n",
       "       [569.0857151],\n",
       "       [460.4839249],\n",
       "       [455.6240134],\n",
       "       [459.7564015],\n",
       "       [413.3362646],\n",
       "       [736.7358136],\n",
       "       [454.9176233],\n",
       "       [694.225203 ],\n",
       "       [533.436667 ],\n",
       "       [484.6660955],\n",
       "       [616.9639968],\n",
       "       [321.7094121],\n",
       "       [465.4938703],\n",
       "       [350.2305307],\n",
       "       [474.411337 ],\n",
       "       [514.8535075],\n",
       "       [548.689463 ],\n",
       "       [383.6222814],\n",
       "       [523.6250868],\n",
       "       [559.028537 ],\n",
       "       [452.8141267],\n",
       "       [482.4314074],\n",
       "       [502.4451409],\n",
       "       [536.6293412],\n",
       "       [495.7506655],\n",
       "       [355.9314195],\n",
       "       [552.4038313],\n",
       "       [643.9250558],\n",
       "       [457.8906574],\n",
       "       [625.324383 ],\n",
       "       [509.4229057],\n",
       "       [352.9160973],\n",
       "       [508.0785182],\n",
       "       [501.665489 ],\n",
       "       [509.752091 ],\n",
       "       [458.0883181],\n",
       "       [638.312598 ],\n",
       "       [438.6061588],\n",
       "       [564.7903062],\n",
       "       [510.0346432],\n",
       "       [256.67     ],\n",
       "       [534.0573102],\n",
       "       [325.326061 ],\n",
       "       [447.0032601],\n",
       "       [729.4976993],\n",
       "       [433.9114639],\n",
       "       [379.6575833],\n",
       "       [529.7828498],\n",
       "       [440.2628417],\n",
       "       [392.8808165],\n",
       "       [355.1264298],\n",
       "       [453.8386161],\n",
       "       [544.2608262],\n",
       "       [526.6288903],\n",
       "       [471.2135709],\n",
       "       [548.0072658],\n",
       "       [554.5549217],\n",
       "       [481.860012 ],\n",
       "       [471.2734431],\n",
       "       [564.2516232],\n",
       "       [498.869098 ],\n",
       "       [530.3435542],\n",
       "       [365.4577236],\n",
       "       [540.6360943],\n",
       "       [367.5698193],\n",
       "       [528.5351615],\n",
       "       [525.3935838],\n",
       "       [534.1767152],\n",
       "       [385.0477169],\n",
       "       [538.8217762],\n",
       "       [516.3368306],\n",
       "       [394.900164 ],\n",
       "       [496.159467 ],\n",
       "       [459.5615323],\n",
       "       [419.5092145],\n",
       "       [419.6711113],\n",
       "       [451.0242737],\n",
       "       [475.4414432],\n",
       "       [562.9581615],\n",
       "       [715.8362185],\n",
       "       [605.8297677],\n",
       "       [354.6158613],\n",
       "       [461.2412142],\n",
       "       [475.1458389],\n",
       "       [496.261793 ],\n",
       "       [377.3221797],\n",
       "       [503.989933 ],\n",
       "       [596.5860753],\n",
       "       [521.5407987],\n",
       "       [359.7439726],\n",
       "       [384.6333912],\n",
       "       [546.0644728],\n",
       "       [436.5082091],\n",
       "       [531.5628628],\n",
       "       [624.4410074],\n",
       "       [433.938391 ],\n",
       "       [481.699037 ],\n",
       "       [506.9734523],\n",
       "       [442.7241974],\n",
       "       [533.768772 ],\n",
       "       [541.2474669],\n",
       "       [537.5822302],\n",
       "       [570.2500116],\n",
       "       [632.4909216],\n",
       "       [580.287338 ],\n",
       "       [460.1123489],\n",
       "       [400.7884056],\n",
       "       [487.4558433],\n",
       "       [455.6424391],\n",
       "       [502.693675 ],\n",
       "       [463.3031303],\n",
       "       [494.2760409],\n",
       "       [655.5018037],\n",
       "       [590.2912841],\n",
       "       [372.8446399],\n",
       "       [596.0078865],\n",
       "       [580.7953806],\n",
       "       [535.4619519],\n",
       "       [528.9700357],\n",
       "       [523.9825011],\n",
       "       [472.5898837],\n",
       "       [575.6838382],\n",
       "       [452.2556128],\n",
       "       [622.6889746],\n",
       "       [515.1835541],\n",
       "       [457.731824 ],\n",
       "       [577.2392052],\n",
       "       [375.1179287],\n",
       "       [465.9613019],\n",
       "       [501.6337818],\n",
       "       [510.7503107],\n",
       "       [300.623321 ],\n",
       "       [550.4253829],\n",
       "       [466.0629149],\n",
       "       [413.526367 ],\n",
       "       [557.1585447],\n",
       "       [437.8776794],\n",
       "       [490.4091889],\n",
       "       [519.2047322],\n",
       "       [411.0866708],\n",
       "       [563.4206658],\n",
       "       [668.9100568],\n",
       "       [497.0066541],\n",
       "       [551.3850256],\n",
       "       [450.9878382],\n",
       "       [540.2494716],\n",
       "       [454.2907021],\n",
       "       [500.5891647],\n",
       "       [441.3708477],\n",
       "       [364.734246 ],\n",
       "       [648.1540531],\n",
       "       [477.2163324]])"
      ]
     },
     "execution_count": 90,
     "metadata": {},
     "output_type": "execute_result"
    }
   ],
   "source": [
    "ytrain"
   ]
  },
  {
   "cell_type": "code",
   "execution_count": 91,
   "id": "ef3f6b3b",
   "metadata": {},
   "outputs": [
    {
     "data": {
      "text/plain": [
       "array([[0.50754517],\n",
       "       [0.56112991],\n",
       "       [0.38065105],\n",
       "       [1.        ],\n",
       "       [0.63828622],\n",
       "       [0.37882414],\n",
       "       [0.42506678],\n",
       "       [0.34660243],\n",
       "       [0.58979753],\n",
       "       [0.58054447],\n",
       "       [0.23411873],\n",
       "       [0.44174249],\n",
       "       [0.27594764],\n",
       "       [0.44855138],\n",
       "       [0.38156544],\n",
       "       [0.46684259],\n",
       "       [0.38069096],\n",
       "       [0.410928  ],\n",
       "       [0.49858391],\n",
       "       [0.24909544],\n",
       "       [0.46678664],\n",
       "       [0.34213225],\n",
       "       [0.56967052],\n",
       "       [0.3475755 ],\n",
       "       [0.51046932],\n",
       "       [0.36910155],\n",
       "       [0.5357142 ],\n",
       "       [0.55453573],\n",
       "       [0.42894533],\n",
       "       [0.72124077],\n",
       "       [0.19919483],\n",
       "       [0.55737537],\n",
       "       [0.43631641],\n",
       "       [0.56441236],\n",
       "       [0.62056701],\n",
       "       [0.39807736],\n",
       "       [0.37777085],\n",
       "       [0.26413714],\n",
       "       [0.56523604],\n",
       "       [0.44027   ],\n",
       "       [0.41268383],\n",
       "       [0.81015972],\n",
       "       [0.47013652],\n",
       "       [0.31292972],\n",
       "       [0.55204197],\n",
       "       [0.65488378],\n",
       "       [0.37011689],\n",
       "       [0.50737285],\n",
       "       [0.56907856],\n",
       "       [0.50982574],\n",
       "       [0.39828309],\n",
       "       [0.64117577],\n",
       "       [0.32917046],\n",
       "       [0.62850418],\n",
       "       [0.6780951 ],\n",
       "       [0.44418743],\n",
       "       [0.47327991],\n",
       "       [0.307179  ],\n",
       "       [0.49980188],\n",
       "       [0.35003862],\n",
       "       [0.34591758],\n",
       "       [0.65863813],\n",
       "       [0.71478999],\n",
       "       [0.67673829],\n",
       "       [0.39227269],\n",
       "       [0.76523481],\n",
       "       [0.35253174],\n",
       "       [0.57433077],\n",
       "       [0.7656741 ],\n",
       "       [0.58099345],\n",
       "       [0.32077176],\n",
       "       [0.17935309],\n",
       "       [0.6246887 ],\n",
       "       [0.35304462],\n",
       "       [0.54586888],\n",
       "       [0.54151404],\n",
       "       [0.38702416],\n",
       "       [0.70175306],\n",
       "       [0.38113149],\n",
       "       [0.433833  ],\n",
       "       [0.44170394],\n",
       "       [0.26324397],\n",
       "       [0.41331758],\n",
       "       [0.49579484],\n",
       "       [0.44170674],\n",
       "       [0.55969363],\n",
       "       [0.53619196],\n",
       "       [0.49859793],\n",
       "       [0.57730421],\n",
       "       [0.38426405],\n",
       "       [0.33454218],\n",
       "       [0.67725928],\n",
       "       [0.67899366],\n",
       "       [0.437025  ],\n",
       "       [0.37272559],\n",
       "       [0.51697474],\n",
       "       [0.36264801],\n",
       "       [0.96317103],\n",
       "       [0.40687664],\n",
       "       [0.57803799],\n",
       "       [0.38631153],\n",
       "       [0.505845  ],\n",
       "       [0.57243949],\n",
       "       [0.04943821],\n",
       "       [0.27607212],\n",
       "       [0.47368714],\n",
       "       [0.34984505],\n",
       "       [0.384337  ],\n",
       "       [0.34143368],\n",
       "       [0.6511541 ],\n",
       "       [0.65415864],\n",
       "       [0.48182238],\n",
       "       [0.21765314],\n",
       "       [0.35820915],\n",
       "       [0.48387138],\n",
       "       [0.54028074],\n",
       "       [0.56772271],\n",
       "       [0.71290355],\n",
       "       [0.47370401],\n",
       "       [0.33052588],\n",
       "       [0.35690398],\n",
       "       [0.33792753],\n",
       "       [0.41347137],\n",
       "       [0.32681207],\n",
       "       [0.03079347],\n",
       "       [0.39816854],\n",
       "       [0.41943953],\n",
       "       [0.45671863],\n",
       "       [0.50628485],\n",
       "       [0.44530866],\n",
       "       [0.64010099],\n",
       "       [0.81366466],\n",
       "       [0.49019968],\n",
       "       [0.46278965],\n",
       "       [0.65183848],\n",
       "       [0.50797164],\n",
       "       [0.35309368],\n",
       "       [0.69995679],\n",
       "       [0.17944014],\n",
       "       [0.63767099],\n",
       "       [0.4968609 ],\n",
       "       [0.64419398],\n",
       "       [0.74910898],\n",
       "       [0.54318518],\n",
       "       [0.41462584],\n",
       "       [0.60941816],\n",
       "       [0.47844533],\n",
       "       [0.60997506],\n",
       "       [0.46122588],\n",
       "       [0.70706196],\n",
       "       [0.32672866],\n",
       "       [0.7019603 ],\n",
       "       [0.35957345],\n",
       "       [0.67782707],\n",
       "       [0.24141507],\n",
       "       [0.22739947],\n",
       "       [0.67951019],\n",
       "       [0.30003166],\n",
       "       [0.44357091],\n",
       "       [0.1739855 ],\n",
       "       [0.47388016],\n",
       "       [0.4335997 ],\n",
       "       [0.62923639],\n",
       "       [0.57549547],\n",
       "       [0.716119  ],\n",
       "       [0.29582118],\n",
       "       [0.5912517 ],\n",
       "       [0.43519057],\n",
       "       [0.68021662],\n",
       "       [0.4223555 ],\n",
       "       [0.43308042],\n",
       "       [0.40858996],\n",
       "       [0.43841025],\n",
       "       [0.36175553],\n",
       "       [0.56288793],\n",
       "       [0.4649496 ],\n",
       "       [0.42268185],\n",
       "       [0.60450047],\n",
       "       [0.38387913],\n",
       "       [0.44653265],\n",
       "       [0.42599777],\n",
       "       [0.405529  ],\n",
       "       [0.73450466],\n",
       "       [0.43281736],\n",
       "       [0.50585122],\n",
       "       [0.2528756 ],\n",
       "       [0.4163316 ],\n",
       "       [0.3935371 ],\n",
       "       [0.35842996],\n",
       "       [0.60881013],\n",
       "       [0.47172243],\n",
       "       [0.53105091],\n",
       "       [0.5416565 ],\n",
       "       [0.3041142 ],\n",
       "       [0.50348785],\n",
       "       [0.67892059],\n",
       "       [0.51541256],\n",
       "       [0.61853141],\n",
       "       [0.50258932],\n",
       "       [0.44780692],\n",
       "       [0.66229772],\n",
       "       [0.74516467],\n",
       "       [0.40317279],\n",
       "       [0.62548418],\n",
       "       [0.57614156],\n",
       "       [0.57479357],\n",
       "       [0.25735059],\n",
       "       [0.29663156],\n",
       "       [0.57926295],\n",
       "       [0.32608436],\n",
       "       [0.3758714 ],\n",
       "       [0.30912691],\n",
       "       [0.36087384],\n",
       "       [0.49717364],\n",
       "       [0.29117734],\n",
       "       [0.52168774],\n",
       "       [0.40822927],\n",
       "       [0.35542757],\n",
       "       [0.51745946],\n",
       "       [0.43825605],\n",
       "       [0.52465637],\n",
       "       [0.57929857],\n",
       "       [0.52439175],\n",
       "       [0.57657799],\n",
       "       [0.43763761],\n",
       "       [0.26956564],\n",
       "       [0.69716244],\n",
       "       [0.43663874],\n",
       "       [0.48310941],\n",
       "       [0.38786372],\n",
       "       [0.45293563],\n",
       "       [0.59794072],\n",
       "       [0.48893382],\n",
       "       [0.38135243],\n",
       "       [0.59584784],\n",
       "       [0.12383655],\n",
       "       [0.19351302],\n",
       "       [0.50562894],\n",
       "       [0.71431774],\n",
       "       [0.34541318],\n",
       "       [0.31007071],\n",
       "       [0.47465907],\n",
       "       [0.3158192 ],\n",
       "       [0.5887492 ],\n",
       "       [0.55189042],\n",
       "       [0.34610082],\n",
       "       [0.58319883],\n",
       "       [0.60438758],\n",
       "       [0.55376692],\n",
       "       [0.37412219],\n",
       "       [0.62696744],\n",
       "       [0.43515113],\n",
       "       [0.73393051],\n",
       "       [0.33263263],\n",
       "       [0.3021995 ],\n",
       "       [0.47424893],\n",
       "       [0.25138082],\n",
       "       [0.33299005],\n",
       "       [0.59850545],\n",
       "       [0.74577754],\n",
       "       [0.25373873],\n",
       "       [0.41260355],\n",
       "       [0.49044714],\n",
       "       [0.57583159],\n",
       "       [0.66157718],\n",
       "       [0.24773159],\n",
       "       [0.53841941],\n",
       "       [0.08790795],\n",
       "       [0.56955431],\n",
       "       [0.64638437],\n",
       "       [0.33668528],\n",
       "       [0.17964989],\n",
       "       [0.50863412],\n",
       "       [0.57739368],\n",
       "       [0.33821304],\n",
       "       [0.38118084],\n",
       "       [0.48021705],\n",
       "       [0.37218769],\n",
       "       [0.44602838],\n",
       "       [0.41361955],\n",
       "       [0.24984149],\n",
       "       [0.55932415],\n",
       "       [0.53857349],\n",
       "       [0.37304875],\n",
       "       [0.42622941],\n",
       "       [0.67584136],\n",
       "       [0.51291024],\n",
       "       [0.61535295],\n",
       "       [0.31458926],\n",
       "       [0.34592244],\n",
       "       [0.40376363],\n",
       "       [0.98006888],\n",
       "       [0.3455657 ],\n",
       "       [0.50776303],\n",
       "       [0.68318374],\n",
       "       [0.31947002],\n",
       "       [0.674795  ],\n",
       "       [0.4523475 ],\n",
       "       [0.31266827],\n",
       "       [0.21663402],\n",
       "       [0.31627086],\n",
       "       [0.44120496],\n",
       "       [0.53791182],\n",
       "       [0.51502283],\n",
       "       [0.74766292],\n",
       "       [0.44083928],\n",
       "       [0.25630774],\n",
       "       [0.63148099],\n",
       "       [0.39241963],\n",
       "       [0.92168954],\n",
       "       [0.34259731],\n",
       "       [0.48919069],\n",
       "       [0.47389574],\n",
       "       [0.11824598],\n",
       "       [0.46239874],\n",
       "       [0.23546864],\n",
       "       [0.47323814],\n",
       "       [0.48543282],\n",
       "       [0.31458361],\n",
       "       [0.46466621],\n",
       "       [0.52635037],\n",
       "       [0.49557048],\n",
       "       [0.3976582 ],\n",
       "       [0.51981549],\n",
       "       [0.50961674],\n",
       "       [0.59926852],\n",
       "       [0.57791997],\n",
       "       [0.27303345],\n",
       "       [0.40992276],\n",
       "       [0.52328429],\n",
       "       [0.3748777 ],\n",
       "       [0.43654819],\n",
       "       [0.29789707],\n",
       "       [0.52662394],\n",
       "       [0.4984251 ],\n",
       "       [0.56975749],\n",
       "       [0.50720528],\n",
       "       [0.50050636],\n",
       "       [0.29235292],\n",
       "       [0.57312178],\n",
       "       [0.34450461],\n",
       "       [0.40843526],\n",
       "       [0.54770257],\n",
       "       [0.49899074],\n",
       "       [0.3430967 ],\n",
       "       [0.5783103 ],\n",
       "       [0.60234281],\n",
       "       [0.39295671],\n",
       "       [0.38358672],\n",
       "       [0.39155403],\n",
       "       [0.30205522],\n",
       "       [0.92557505],\n",
       "       [0.38222479],\n",
       "       [0.84361387],\n",
       "       [0.53361084],\n",
       "       [0.43958035],\n",
       "       [0.69465295],\n",
       "       [0.12539709],\n",
       "       [0.40261597],\n",
       "       [0.18038629],\n",
       "       [0.419809  ],\n",
       "       [0.49778219],\n",
       "       [0.56301849],\n",
       "       [0.24476616],\n",
       "       [0.51469395],\n",
       "       [0.5829524 ],\n",
       "       [0.37816921],\n",
       "       [0.43527183],\n",
       "       [0.47385865],\n",
       "       [0.53976637],\n",
       "       [0.46095159],\n",
       "       [0.1913777 ],\n",
       "       [0.57017985],\n",
       "       [0.74663433],\n",
       "       [0.38795685],\n",
       "       [0.71077192],\n",
       "       [0.4873119 ],\n",
       "       [0.18556411],\n",
       "       [0.4847199 ],\n",
       "       [0.47235547],\n",
       "       [0.48794657],\n",
       "       [0.38833794],\n",
       "       [0.73581342],\n",
       "       [0.35077601],\n",
       "       [0.59406119],\n",
       "       [0.48849134],\n",
       "       [0.        ],\n",
       "       [0.53480745],\n",
       "       [0.13237005],\n",
       "       [0.36696576],\n",
       "       [0.91161984],\n",
       "       [0.34172456],\n",
       "       [0.23712215],\n",
       "       [0.52656622],\n",
       "       [0.35397012],\n",
       "       [0.26261677],\n",
       "       [0.18982567],\n",
       "       [0.38014444],\n",
       "       [0.55448   ],\n",
       "       [0.52048533],\n",
       "       [0.41364365],\n",
       "       [0.5617032 ],\n",
       "       [0.57432719],\n",
       "       [0.43417017],\n",
       "       [0.41375909],\n",
       "       [0.5930226 ],\n",
       "       [0.46696398],\n",
       "       [0.52764726],\n",
       "       [0.20974458],\n",
       "       [0.54749146],\n",
       "       [0.21381674],\n",
       "       [0.52416065],\n",
       "       [0.51810364],\n",
       "       [0.53503766],\n",
       "       [0.24751442],\n",
       "       [0.54399342],\n",
       "       [0.50064206],\n",
       "       [0.26651011],\n",
       "       [0.46173976],\n",
       "       [0.39117832],\n",
       "       [0.31395677],\n",
       "       [0.31426891],\n",
       "       [0.37471834],\n",
       "       [0.42179506],\n",
       "       [0.59052878],\n",
       "       [0.88528027],\n",
       "       [0.67318597],\n",
       "       [0.18884129],\n",
       "       [0.39441678],\n",
       "       [0.42122513],\n",
       "       [0.46193705],\n",
       "       [0.23261945],\n",
       "       [0.47683703],\n",
       "       [0.65536397],\n",
       "       [0.5106754 ],\n",
       "       [0.19872837],\n",
       "       [0.24671559],\n",
       "       [0.55795746],\n",
       "       [0.34673112],\n",
       "       [0.52999811],\n",
       "       [0.70906875],\n",
       "       [0.34177647],\n",
       "       [0.43385981],\n",
       "       [0.48258931],\n",
       "       [0.35871566],\n",
       "       [0.53425114],\n",
       "       [0.54867019],\n",
       "       [0.54160355],\n",
       "       [0.60458759],\n",
       "       [0.72458913],\n",
       "       [0.62393973],\n",
       "       [0.39224031],\n",
       "       [0.27786274],\n",
       "       [0.44495903],\n",
       "       [0.38362224],\n",
       "       [0.47433783],\n",
       "       [0.39839219],\n",
       "       [0.45810849],\n",
       "       [0.7689545 ],\n",
       "       [0.64322751],\n",
       "       [0.22398668],\n",
       "       [0.65424921],\n",
       "       [0.62491924],\n",
       "       [0.53751562],\n",
       "       [0.5249991 ],\n",
       "       [0.51538305],\n",
       "       [0.41629721],\n",
       "       [0.6150641 ],\n",
       "       [0.37709239],\n",
       "       [0.7056908 ],\n",
       "       [0.49841853],\n",
       "       [0.38765061],\n",
       "       [0.61806288],\n",
       "       [0.22836962],\n",
       "       [0.40351719],\n",
       "       [0.47229434],\n",
       "       [0.48987116],\n",
       "       [0.08474275],\n",
       "       [0.56636537],\n",
       "       [0.4037131 ],\n",
       "       [0.30242174],\n",
       "       [0.57934702],\n",
       "       [0.34937149],\n",
       "       [0.45065313],\n",
       "       [0.50617143],\n",
       "       [0.29771797],\n",
       "       [0.5914205 ],\n",
       "       [0.79480584],\n",
       "       [0.46337315],\n",
       "       [0.56821558],\n",
       "       [0.3746481 ],\n",
       "       [0.54674604],\n",
       "       [0.38101607],\n",
       "       [0.4702803 ],\n",
       "       [0.35610637],\n",
       "       [0.2083497 ],\n",
       "       [0.75478791],\n",
       "       [0.42521708]])"
      ]
     },
     "execution_count": 91,
     "metadata": {},
     "output_type": "execute_result"
    }
   ],
   "source": [
    "ytrain = scaler.fit_transform(ytrain)\n",
    "ytrain"
   ]
  },
  {
   "cell_type": "code",
   "execution_count": 92,
   "id": "5feafe06",
   "metadata": {},
   "outputs": [
    {
     "data": {
      "text/plain": [
       "LinearRegression()"
      ]
     },
     "execution_count": 92,
     "metadata": {},
     "output_type": "execute_result"
    }
   ],
   "source": [
    "lm.fit(xtrain,ytrain)"
   ]
  },
  {
   "cell_type": "code",
   "execution_count": 93,
   "id": "acadd5d4",
   "metadata": {},
   "outputs": [],
   "source": [
    "ypred = lm.predict(xtest)"
   ]
  },
  {
   "cell_type": "code",
   "execution_count": 94,
   "id": "797918bd",
   "metadata": {},
   "outputs": [
    {
     "data": {
      "text/plain": [
       "<matplotlib.collections.PathCollection at 0x2afad371250>"
      ]
     },
     "execution_count": 94,
     "metadata": {},
     "output_type": "execute_result"
    },
    {
     "data": {
      "image/png": "[encoded data removed]",
      "text/plain": [
       "<Figure size 576x360 with 1 Axes>"
      ]
     },
     "metadata": {},
     "output_type": "display_data"
    }
   ],
   "source": [
    "plt.scatter(ytest,ypred)"
   ]
  },
  {
   "cell_type": "code",
   "execution_count": 95,
   "id": "0bf9edfe",
   "metadata": {},
   "outputs": [
    {
     "name": "stdout",
     "output_type": "stream",
     "text": [
      "MSE : 256371.1953150883 \n",
      " RMSE : 506.3311123317313 \n",
      " Accuracy : -40.491875986161354\n"
     ]
    }
   ],
   "source": [
    "from sklearn.metrics import mean_squared_error as MSE,mean_absolute_error as MAE,r2_score\n",
    "mse = MSE(ytest,ypred)\n",
    "rmse = np.sqrt(mse)\n",
    "\n",
    "ac = r2_score(ytest,ypred)\n",
    "print(f\"MSE : {mse} \\n RMSE : {rmse} \\n Accuracy : {ac}\")"
   ]
  },
  {
   "cell_type": "markdown",
   "id": "5e11d07c",
   "metadata": {},
   "source": [
    "We see no improvement in the accuracy of the model on using minmax scaler.We will try using standard scalet to check the accuracy"
   ]
  },
  {
   "cell_type": "code",
   "execution_count": 96,
   "id": "4601dcf7",
   "metadata": {},
   "outputs": [],
   "source": [
    "from sklearn.preprocessing import StandardScaler"
   ]
  },
  {
   "cell_type": "code",
   "execution_count": 97,
   "id": "1adcc470",
   "metadata": {},
   "outputs": [],
   "source": [
    "ss = StandardScaler()"
   ]
  },
  {
   "cell_type": "code",
   "execution_count": 98,
   "id": "2b6645e7",
   "metadata": {},
   "outputs": [],
   "source": [
    "xtrain = ss.fit_transform(xtrain)\n",
    "xtest = ss.fit_transform(xtest)"
   ]
  },
  {
   "cell_type": "code",
   "execution_count": 99,
   "id": "03fd1690",
   "metadata": {},
   "outputs": [
    {
     "data": {
      "text/plain": [
       "LinearRegression()"
      ]
     },
     "execution_count": 99,
     "metadata": {},
     "output_type": "execute_result"
    }
   ],
   "source": [
    "lm.fit(xtrain,ytrain)"
   ]
  },
  {
   "cell_type": "code",
   "execution_count": 100,
   "id": "0acffb16",
   "metadata": {},
   "outputs": [],
   "source": [
    "ypred = lm.predict(xtest)"
   ]
  },
  {
   "cell_type": "code",
   "execution_count": 101,
   "id": "66375e0d",
   "metadata": {},
   "outputs": [
    {
     "name": "stdout",
     "output_type": "stream",
     "text": [
      "MSE : 256385.03890971807 \n",
      " RMSE : 506.34478264293205 \n",
      " Accuracy : -40.494116474648656\n"
     ]
    }
   ],
   "source": [
    "mse = MSE(ytest,ypred)\n",
    "rmse = np.sqrt(mse)\n",
    "\n",
    "ac = r2_score(ytest,ypred)\n",
    "print(f\"MSE : {mse} \\n RMSE : {rmse} \\n Accuracy : {ac}\")"
   ]
  },
  {
   "cell_type": "markdown",
   "id": "e226a8f9",
   "metadata": {},
   "source": [
    "# Xg-Boost algorthm"
   ]
  },
  {
   "cell_type": "code",
   "execution_count": 102,
   "id": "268cc162",
   "metadata": {
    "scrolled": false
   },
   "outputs": [
    {
     "name": "stdout",
     "output_type": "stream",
     "text": [
      "Requirement already satisfied: xgboost in c:\\programdata\\anaconda3\\lib\\site-packages (1.7.0)\n",
      "Requirement already satisfied: numpy in c:\\programdata\\anaconda3\\lib\\site-packages (from xgboost) (1.20.3)\n",
      "Requirement already satisfied: scipy in c:\\programdata\\anaconda3\\lib\\site-packages (from xgboost) (1.7.1)\n"
     ]
    },
    {
     "name": "stderr",
     "output_type": "stream",
     "text": [
      "WARNING: Ignoring invalid distribution -rkupsafe (c:\\programdata\\anaconda3\\lib\\site-packages)\n",
      "WARNING: Ignoring invalid distribution -rkupsafe (c:\\programdata\\anaconda3\\lib\\site-packages)\n",
      "WARNING: Ignoring invalid distribution - (c:\\programdata\\anaconda3\\lib\\site-packages)\n",
      "WARNING: Ignoring invalid distribution -arkupsafe (c:\\programdata\\anaconda3\\lib\\site-packages)\n",
      "WARNING: Ignoring invalid distribution -rkupsafe (c:\\programdata\\anaconda3\\lib\\site-packages)\n",
      "WARNING: Ignoring invalid distribution -rkupsafe (c:\\programdata\\anaconda3\\lib\\site-packages)\n",
      "WARNING: Ignoring invalid distribution - (c:\\programdata\\anaconda3\\lib\\site-packages)\n",
      "WARNING: Ignoring invalid distribution -arkupsafe (c:\\programdata\\anaconda3\\lib\\site-packages)\n",
      "WARNING: Ignoring invalid distribution -rkupsafe (c:\\programdata\\anaconda3\\lib\\site-packages)\n",
      "WARNING: Ignoring invalid distribution -rkupsafe (c:\\programdata\\anaconda3\\lib\\site-packages)\n",
      "WARNING: Ignoring invalid distribution - (c:\\programdata\\anaconda3\\lib\\site-packages)\n",
      "WARNING: Ignoring invalid distribution -arkupsafe (c:\\programdata\\anaconda3\\lib\\site-packages)\n",
      "WARNING: Ignoring invalid distribution -rkupsafe (c:\\programdata\\anaconda3\\lib\\site-packages)\n",
      "WARNING: Ignoring invalid distribution -rkupsafe (c:\\programdata\\anaconda3\\lib\\site-packages)\n",
      "WARNING: Ignoring invalid distribution - (c:\\programdata\\anaconda3\\lib\\site-packages)\n",
      "WARNING: Ignoring invalid distribution -arkupsafe (c:\\programdata\\anaconda3\\lib\\site-packages)\n",
      "WARNING: Ignoring invalid distribution -rkupsafe (c:\\programdata\\anaconda3\\lib\\site-packages)\n",
      "WARNING: Ignoring invalid distribution -rkupsafe (c:\\programdata\\anaconda3\\lib\\site-packages)\n",
      "WARNING: Ignoring invalid distribution - (c:\\programdata\\anaconda3\\lib\\site-packages)\n",
      "WARNING: Ignoring invalid distribution -arkupsafe (c:\\programdata\\anaconda3\\lib\\site-packages)\n",
      "WARNING: Ignoring invalid distribution -rkupsafe (c:\\programdata\\anaconda3\\lib\\site-packages)\n",
      "WARNING: Ignoring invalid distribution -rkupsafe (c:\\programdata\\anaconda3\\lib\\site-packages)\n",
      "WARNING: Ignoring invalid distribution - (c:\\programdata\\anaconda3\\lib\\site-packages)\n",
      "WARNING: Ignoring invalid distribution -arkupsafe (c:\\programdata\\anaconda3\\lib\\site-packages)\n"
     ]
    }
   ],
   "source": [
    "import sys\n",
    "!{sys.executable} -m pip install xgboost"
   ]
  },
  {
   "cell_type": "code",
   "execution_count": 103,
   "id": "7aa85e86",
   "metadata": {
    "scrolled": true
   },
   "outputs": [],
   "source": [
    "from xgboost import XGBRegressor\n"
   ]
  },
  {
   "cell_type": "code",
   "execution_count": 104,
   "id": "f2d11f7f",
   "metadata": {},
   "outputs": [
    {
     "data": {
      "text/plain": [
       "XGBRegressor(base_score=0.5, booster='gbtree', callbacks=None,\n",
       "             colsample_bylevel=1, colsample_bynode=1, colsample_bytree=1,\n",
       "             early_stopping_rounds=None, enable_categorical=False,\n",
       "             eval_metric=None, feature_types=None, gamma=0, gpu_id=-1,\n",
       "             grow_policy='depthwise', importance_type=None,\n",
       "             interaction_constraints='', learning_rate=0.300000012, max_bin=256,\n",
       "             max_cat_threshold=64, max_cat_to_onehot=4, max_delta_step=0,\n",
       "             max_depth=6, max_leaves=0, min_child_weight=1, missing=nan,\n",
       "             monotone_constraints='()', n_estimators=100, n_jobs=0,\n",
       "             num_parallel_tree=1, predictor='auto', random_state=0, ...)"
      ]
     },
     "execution_count": 104,
     "metadata": {},
     "output_type": "execute_result"
    }
   ],
   "source": [
    "model_xg=XGBRegressor()\n",
    "model_xg.fit(xtrain,ytrain)"
   ]
  },
  {
   "cell_type": "code",
   "execution_count": 105,
   "id": "75db2d7c",
   "metadata": {},
   "outputs": [
    {
     "data": {
      "text/plain": [
       "-40.49085086323112"
      ]
     },
     "execution_count": 105,
     "metadata": {},
     "output_type": "execute_result"
    }
   ],
   "source": [
    "ypred = model_xg.predict(xtest)\n",
    "\n",
    "xgb=r2_score(ytest, ypred)\n",
    "xgb"
   ]
  },
  {
   "cell_type": "code",
   "execution_count": 106,
   "id": "f09d3728",
   "metadata": {},
   "outputs": [],
   "source": [
    "from sklearn.linear_model import Ridge ,Lasso\n"
   ]
  },
  {
   "cell_type": "code",
   "execution_count": 107,
   "id": "24a76a33",
   "metadata": {},
   "outputs": [
    {
     "name": "stdout",
     "output_type": "stream",
     "text": [
      "Accuracy : -40.494115990465055\n"
     ]
    }
   ],
   "source": [
    "l2 = Ridge(alpha=10)\n",
    "l2.fit(xtrain,ytrain)\n",
    "ypred = l2.predict(xtest)\n",
    "from sklearn.metrics import r2_score\n",
    "print(f\"Accuracy : {r2_score(ytest,ypred)}\")"
   ]
  },
  {
   "cell_type": "markdown",
   "id": "61a175d1",
   "metadata": {},
   "source": [
    "Interpretation:\n",
    "\n",
    "\n",
    "On building Linear Regression models using Random forest and XG-Boost algorithms ,we see that the accuracy is negative.\n",
    "\n",
    "This indicated that the features need to be tweaked and seen to get a good accuracy.\n",
    "\n",
    "We might have to get an indepth view of the dataset and tweak the independent features  .\n",
    "\n",
    "Lets try and see the performance and accyracy after tewaking the independent columns\n",
    "\n",
    "The model building will be continued in the next file \"Ecommerce-feature_tweak\" "
   ]
  },
  {
   "cell_type": "code",
   "execution_count": null,
   "id": "0a9fb3db",
   "metadata": {},
   "outputs": [],
   "source": []
  }
 ],
 "metadata": {
  "kernelspec": {
   "display_name": "Python 3 (ipykernel)",
   "language": "python",
   "name": "python3"
  },
  "language_info": {
   "codemirror_mode": {
    "name": "ipython",
    "version": 3
   },
   "file_extension": ".py",
   "mimetype": "text/x-python",
   "name": "python",
   "nbconvert_exporter": "python",
   "pygments_lexer": "ipython3",
   "version": "3.9.7"
  }
 },
 "nbformat": 4,
 "nbformat_minor": 5
}
